{
  "nbformat": 4,
  "nbformat_minor": 0,
  "metadata": {
    "colab": {
      "provenance": [],
      "gpuType": "V28"
    },
    "kernelspec": {
      "name": "python3",
      "display_name": "Python 3"
    },
    "language_info": {
      "name": "python"
    },
    "accelerator": "TPU"
  },
  "cells": [
    {
      "cell_type": "code",
      "execution_count": 1,
      "metadata": {
        "colab": {
          "base_uri": "https://localhost:8080/"
        },
        "id": "wSNpEjOZZDXE",
        "outputId": "2a9b685b-8edc-4294-84ef-2058bd5596ba"
      },
      "outputs": [
        {
          "output_type": "stream",
          "name": "stdout",
          "text": [
            "Mounted at /content/drive\n"
          ]
        }
      ],
      "source": [
        "from google.colab import drive\n",
        "drive.mount('/content/drive')"
      ]
    },
    {
      "cell_type": "code",
      "source": [
        "bird_path = '/content/drive/MyDrive/Colab Notebooks/Capstone Project/sabina.parquet'\n",
        "climate_path = '/content/drive/MyDrive/Colab Notebooks/Capstone Project/climate_merged_final.csv'\n",
        "land_path = '/content/drive/MyDrive/Colab Notebooks/Capstone Project/last_version_of_merged_data.csv'"
      ],
      "metadata": {
        "id": "aywZx8PGZNYb"
      },
      "execution_count": 2,
      "outputs": []
    },
    {
      "cell_type": "code",
      "source": [
        "import pandas as pd\n",
        "\n",
        "# Load files\n",
        "df_bird = pd.read_parquet(bird_path)\n",
        "df_climate = pd.read_csv(climate_path)\n",
        "df_land = pd.read_csv(land_path)\n",
        "\n",
        "# Preview data\n",
        "print(df_bird.head())\n",
        "print(df_climate.head())\n",
        "print(df_land.head())"
      ],
      "metadata": {
        "colab": {
          "base_uri": "https://localhost:8080/"
        },
        "id": "rQBac2cwZQST",
        "outputId": "e1fccdae-2606-498b-9197-05a71f0ada02"
      },
      "execution_count": 3,
      "outputs": [
        {
          "output_type": "stream",
          "name": "stderr",
          "text": [
            "<ipython-input-3-58bc316f93fc>:5: DtypeWarning: Columns (5) have mixed types. Specify dtype option on import or set low_memory=False.\n",
            "  df_climate = pd.read_csv(climate_path)\n"
          ]
        },
        {
          "output_type": "stream",
          "name": "stdout",
          "text": [
            "    LATITUDE   LONGITUDE OBSERVATION DATE\n",
            "0  32.045333 -115.908508          1995-11\n",
            "1  30.409449 -115.945759          1998-03\n",
            "2  30.409449 -115.945759          1998-03\n",
            "3  30.409449 -115.945759          1998-03\n",
            "4  30.409449 -115.945759          1998-03\n",
            "    Station_ID     Date  Latitude  Longitude  Elevation State   StationName  \\\n",
            "0  CA001011500  1961-01   48.9333    -123.75       75.0   NaN  BC CHEMAINUS   \n",
            "1  CA001011500  1962-01   48.9333    -123.75       75.0   NaN  BC CHEMAINUS   \n",
            "2  CA001011500  1963-01   48.9333    -123.75       75.0   NaN  BC CHEMAINUS   \n",
            "3  CA001011500  1964-01   48.9333    -123.75       75.0   NaN  BC CHEMAINUS   \n",
            "4  CA001011500  1965-01   48.9333    -123.75       75.0   NaN  BC CHEMAINUS   \n",
            "\n",
            "   Temp_celsius  Precip_mm TempFlags Precip_MeasurementFlag Precip_QCFlag  \\\n",
            "0          5.01      372.3         E                    NaN           NaN   \n",
            "1          3.53      107.4         E                    NaN           NaN   \n",
            "2          1.55       33.5         E                    NaN           NaN   \n",
            "3          4.56      302.5         E                    NaN           NaN   \n",
            "4          2.73      169.4         E                    NaN           NaN   \n",
            "\n",
            "  Precip_SourceFlag  Precip_SourceIndex  Precip_FirstYear  Precip_LastYear  \n",
            "0                 D             23584.0              1919             2024  \n",
            "1                 D             23584.0              1919             2024  \n",
            "2                 D             23584.0              1919             2024  \n",
            "3                 D             23584.0              1919             2024  \n",
            "4                 D             23584.0              1919             2024  \n",
            "   Year     Date  Latitude   Longitude  Region  Land_Cover_Type  \\\n",
            "0  2001  2001-01      83.0 -170.000000  Canada                0   \n",
            "1  2001  2001-01      83.0 -169.949958  Canada                0   \n",
            "2  2001  2001-01      83.0 -169.899917  Canada                0   \n",
            "3  2001  2001-01      83.0 -169.849875  Canada                0   \n",
            "4  2001  2001-01      83.0 -169.799833  Canada                0   \n",
            "\n",
            "  Land_Cover_Description  \n",
            "0                  Water  \n",
            "1                  Water  \n",
            "2                  Water  \n",
            "3                  Water  \n",
            "4                  Water  \n"
          ]
        }
      ]
    },
    {
      "cell_type": "code",
      "source": [
        "for i, df in enumerate([df_bird, df_climate, df_land], start=1):\n",
        "    print(f\"DataFrame {i} columns: {df.columns}\")"
      ],
      "metadata": {
        "colab": {
          "base_uri": "https://localhost:8080/"
        },
        "id": "Je58fhQSbNpq",
        "outputId": "e536a150-18fb-48f8-e1d7-54863963b717"
      },
      "execution_count": 4,
      "outputs": [
        {
          "output_type": "stream",
          "name": "stdout",
          "text": [
            "DataFrame 1 columns: Index(['LATITUDE', 'LONGITUDE', 'OBSERVATION DATE'], dtype='object')\n",
            "DataFrame 2 columns: Index(['Station_ID', 'Date', 'Latitude', 'Longitude', 'Elevation', 'State',\n",
            "       'StationName', 'Temp_celsius', 'Precip_mm', 'TempFlags',\n",
            "       'Precip_MeasurementFlag', 'Precip_QCFlag', 'Precip_SourceFlag',\n",
            "       'Precip_SourceIndex', 'Precip_FirstYear', 'Precip_LastYear'],\n",
            "      dtype='object')\n",
            "DataFrame 3 columns: Index(['Year', 'Date', 'Latitude', 'Longitude', 'Region', 'Land_Cover_Type',\n",
            "       'Land_Cover_Description'],\n",
            "      dtype='object')\n"
          ]
        }
      ]
    },
    {
      "cell_type": "code",
      "source": [
        "print(\"Missing values in df_bird:\")\n",
        "print(df_bird.isnull().sum())\n",
        "\n",
        "print(\"\\nMissing values in df_climate:\")\n",
        "print(df_climate.isnull().sum())\n",
        "\n",
        "print(\"\\nMissing values in df_land:\")\n",
        "print(df_land.isnull().sum())"
      ],
      "metadata": {
        "colab": {
          "base_uri": "https://localhost:8080/"
        },
        "id": "S7CgGkT-dHVb",
        "outputId": "af0f2e74-fc3e-46c4-d317-0aaabcfc9b66"
      },
      "execution_count": 5,
      "outputs": [
        {
          "output_type": "stream",
          "name": "stdout",
          "text": [
            "Missing values in df_bird:\n",
            "LATITUDE            0\n",
            "LONGITUDE           0\n",
            "OBSERVATION DATE    0\n",
            "dtype: int64\n",
            "\n",
            "Missing values in df_climate:\n",
            "Station_ID                      0\n",
            "Date                            0\n",
            "Latitude                        0\n",
            "Longitude                       0\n",
            "Elevation                       0\n",
            "State                     1445843\n",
            "StationName                     0\n",
            "Temp_celsius                    0\n",
            "Precip_mm                       0\n",
            "TempFlags                    2117\n",
            "Precip_MeasurementFlag    1369102\n",
            "Precip_QCFlag             1481963\n",
            "Precip_SourceFlag               0\n",
            "Precip_SourceIndex              0\n",
            "Precip_FirstYear                0\n",
            "Precip_LastYear                 0\n",
            "dtype: int64\n",
            "\n",
            "Missing values in df_land:\n",
            "Year                      0\n",
            "Date                      0\n",
            "Latitude                  0\n",
            "Longitude                 0\n",
            "Region                    0\n",
            "Land_Cover_Type           0\n",
            "Land_Cover_Description    0\n",
            "dtype: int64\n"
          ]
        }
      ]
    },
    {
      "cell_type": "code",
      "source": [
        "print(\"Data types in df_bird:\")\n",
        "print(df_bird.dtypes)\n",
        "\n",
        "print(\"\\nData types in df_climate:\")\n",
        "print(df_climate.dtypes)\n",
        "\n",
        "print(\"\\nData types in df_land:\")\n",
        "print(df_land.dtypes)"
      ],
      "metadata": {
        "colab": {
          "base_uri": "https://localhost:8080/"
        },
        "id": "FkF_kSKQdSL7",
        "outputId": "d194351f-7ec0-4bcf-803b-6c83832e64e4"
      },
      "execution_count": 6,
      "outputs": [
        {
          "output_type": "stream",
          "name": "stdout",
          "text": [
            "Data types in df_bird:\n",
            "LATITUDE            float64\n",
            "LONGITUDE           float64\n",
            "OBSERVATION DATE     object\n",
            "dtype: object\n",
            "\n",
            "Data types in df_climate:\n",
            "Station_ID                 object\n",
            "Date                       object\n",
            "Latitude                  float64\n",
            "Longitude                 float64\n",
            "Elevation                 float64\n",
            "State                      object\n",
            "StationName                object\n",
            "Temp_celsius              float64\n",
            "Precip_mm                 float64\n",
            "TempFlags                  object\n",
            "Precip_MeasurementFlag     object\n",
            "Precip_QCFlag              object\n",
            "Precip_SourceFlag          object\n",
            "Precip_SourceIndex        float64\n",
            "Precip_FirstYear            int64\n",
            "Precip_LastYear             int64\n",
            "dtype: object\n",
            "\n",
            "Data types in df_land:\n",
            "Year                        int64\n",
            "Date                       object\n",
            "Latitude                  float64\n",
            "Longitude                 float64\n",
            "Region                     object\n",
            "Land_Cover_Type             int64\n",
            "Land_Cover_Description     object\n",
            "dtype: object\n"
          ]
        }
      ]
    },
    {
      "cell_type": "code",
      "source": [
        "print(\"Duplicate records in df_bird:\", df_bird.duplicated().sum())\n",
        "print(\"Duplicate records in df_climate:\", df_climate.duplicated().sum())\n",
        "print(\"Duplicate records in df_land:\", df_land.duplicated().sum())"
      ],
      "metadata": {
        "colab": {
          "base_uri": "https://localhost:8080/"
        },
        "id": "f11RTU62dVRW",
        "outputId": "73e86e1c-a949-4a76-e45e-57403dfe0ffd"
      },
      "execution_count": 7,
      "outputs": [
        {
          "output_type": "stream",
          "name": "stdout",
          "text": [
            "Duplicate records in df_bird: 4454080\n",
            "Duplicate records in df_climate: 0\n",
            "Duplicate records in df_land: 0\n"
          ]
        }
      ]
    },
    {
      "cell_type": "code",
      "source": [
        "print(\"\\nSummary statistics for df_bird:\")\n",
        "print(df_bird.describe())\n",
        "\n",
        "print(\"\\nSummary statistics for df_climate:\")\n",
        "print(df_climate.describe())\n",
        "\n",
        "print(\"\\nSummary statistics for df_land:\")\n",
        "print(df_land.describe())"
      ],
      "metadata": {
        "colab": {
          "base_uri": "https://localhost:8080/"
        },
        "id": "oHcircBDeNKU",
        "outputId": "cc322dcc-0030-4dc0-9da1-88ae1994f234"
      },
      "execution_count": 10,
      "outputs": [
        {
          "output_type": "stream",
          "name": "stdout",
          "text": [
            "\n",
            "Summary statistics for df_bird:\n",
            "           LATITUDE     LONGITUDE\n",
            "count  7.498836e+06  7.498836e+06\n",
            "mean   4.238773e+01 -9.358986e+01\n",
            "std    6.207601e+00  2.055219e+01\n",
            "min    1.934370e+01 -1.790633e+02\n",
            "25%    3.912949e+01 -1.140327e+02\n",
            "50%    4.240090e+01 -8.596323e+01\n",
            "75%    4.621175e+01 -7.676376e+01\n",
            "max    7.315889e+01  1.792826e+02\n",
            "\n",
            "Summary statistics for df_climate:\n",
            "           Latitude     Longitude     Elevation  Temp_celsius     Precip_mm  \\\n",
            "count  1.484396e+06  1.484396e+06  1.484396e+06  1.484396e+06  1.484396e+06   \n",
            "mean   4.555800e+01 -9.750621e+01  6.590975e+02  6.156709e+00  7.430306e+01   \n",
            "std    7.852349e+00  2.121039e+01  8.109278e+02  1.192370e+01  7.159725e+01   \n",
            "min    1.491700e+01 -1.766500e+02 -9.999000e+02 -9.999000e+01  0.000000e+00   \n",
            "25%    4.156330e+01 -1.145833e+02  1.020000e+02 -1.590000e+00  2.720000e+01   \n",
            "50%    4.605000e+01 -1.003167e+02  3.200000e+02  7.340000e+00  5.840000e+01   \n",
            "75%    4.981670e+01 -7.893330e+01  8.060000e+02  1.497000e+01  9.940000e+01   \n",
            "max    8.251670e+01 -5.266670e+01  3.541800e+03  4.089000e+01  2.522200e+03   \n",
            "\n",
            "       Precip_SourceIndex  Precip_FirstYear  Precip_LastYear  \n",
            "count        1.484396e+06      1.484396e+06     1.484396e+06  \n",
            "mean         4.555581e+04      1.955619e+03     2.011661e+03  \n",
            "std          2.273171e+04      2.983165e+01     1.502053e+01  \n",
            "min          2.358400e+04      1.827000e+03     1.961000e+03  \n",
            "25%          2.733175e+04      1.942000e+03     2.003000e+03  \n",
            "50%          3.037800e+04      1.962000e+03     2.018000e+03  \n",
            "75%          7.217300e+04      1.978000e+03     2.024000e+03  \n",
            "max          1.221640e+05      2.010000e+03     2.024000e+03  \n",
            "\n",
            "Summary statistics for df_land:\n",
            "               Year      Latitude     Longitude  Land_Cover_Type\n",
            "count  7.498554e+07  7.498554e+07  7.498554e+07     7.498554e+07\n",
            "mean   2.012000e+03  4.900000e+01 -1.100000e+02     3.461097e+00\n",
            "std    6.633250e+00  1.964436e+01  3.465546e+01     4.946622e+00\n",
            "min    2.001000e+03  1.500000e+01 -1.700000e+02     0.000000e+00\n",
            "25%    2.006000e+03  3.197496e+01 -1.400250e+02     0.000000e+00\n",
            "50%    2.012000e+03  4.900000e+01 -1.100000e+02     0.000000e+00\n",
            "75%    2.018000e+03  6.602504e+01 -7.997498e+01     8.000000e+00\n",
            "max    2.023000e+03  8.300000e+01 -5.000000e+01     1.600000e+01\n"
          ]
        }
      ]
    },
    {
      "cell_type": "code",
      "source": [
        "for df in [df_bird, df_climate, df_land]:\n",
        "    possible_date_columns = ['Date', 'OBSERVATION DATE']\n",
        "    for col in possible_date_columns:\n",
        "        if col in df.columns:\n",
        "            df.rename(columns={col: 'Date'}, inplace=True)\n",
        "            break  # Stop renaming if a match is found"
      ],
      "metadata": {
        "id": "D_TENxT4bSch"
      },
      "execution_count": 11,
      "outputs": []
    },
    {
      "cell_type": "code",
      "source": [
        "print(df_bird.head())\n",
        "print(df_climate.head())\n",
        "print(df_land.head())"
      ],
      "metadata": {
        "colab": {
          "base_uri": "https://localhost:8080/"
        },
        "id": "6hV1sAQFbVwy",
        "outputId": "5508b059-831d-4079-d98d-60ff38f3cc0b"
      },
      "execution_count": 12,
      "outputs": [
        {
          "output_type": "stream",
          "name": "stdout",
          "text": [
            "    LATITUDE   LONGITUDE     Date\n",
            "0  32.045333 -115.908508  1995-11\n",
            "1  30.409449 -115.945759  1998-03\n",
            "2  30.409449 -115.945759  1998-03\n",
            "3  30.409449 -115.945759  1998-03\n",
            "4  30.409449 -115.945759  1998-03\n",
            "    Station_ID     Date  Latitude  Longitude  Elevation State   StationName  \\\n",
            "0  CA001011500  1961-01   48.9333    -123.75       75.0   NaN  BC CHEMAINUS   \n",
            "1  CA001011500  1962-01   48.9333    -123.75       75.0   NaN  BC CHEMAINUS   \n",
            "2  CA001011500  1963-01   48.9333    -123.75       75.0   NaN  BC CHEMAINUS   \n",
            "3  CA001011500  1964-01   48.9333    -123.75       75.0   NaN  BC CHEMAINUS   \n",
            "4  CA001011500  1965-01   48.9333    -123.75       75.0   NaN  BC CHEMAINUS   \n",
            "\n",
            "   Temp_celsius  Precip_mm TempFlags Precip_MeasurementFlag Precip_QCFlag  \\\n",
            "0          5.01      372.3         E                    NaN           NaN   \n",
            "1          3.53      107.4         E                    NaN           NaN   \n",
            "2          1.55       33.5         E                    NaN           NaN   \n",
            "3          4.56      302.5         E                    NaN           NaN   \n",
            "4          2.73      169.4         E                    NaN           NaN   \n",
            "\n",
            "  Precip_SourceFlag  Precip_SourceIndex  Precip_FirstYear  Precip_LastYear  \n",
            "0                 D             23584.0              1919             2024  \n",
            "1                 D             23584.0              1919             2024  \n",
            "2                 D             23584.0              1919             2024  \n",
            "3                 D             23584.0              1919             2024  \n",
            "4                 D             23584.0              1919             2024  \n",
            "   Year     Date  Latitude   Longitude  Region  Land_Cover_Type  \\\n",
            "0  2001  2001-01      83.0 -170.000000  Canada                0   \n",
            "1  2001  2001-01      83.0 -169.949958  Canada                0   \n",
            "2  2001  2001-01      83.0 -169.899917  Canada                0   \n",
            "3  2001  2001-01      83.0 -169.849875  Canada                0   \n",
            "4  2001  2001-01      83.0 -169.799833  Canada                0   \n",
            "\n",
            "  Land_Cover_Description  \n",
            "0                  Water  \n",
            "1                  Water  \n",
            "2                  Water  \n",
            "3                  Water  \n",
            "4                  Water  \n"
          ]
        }
      ]
    },
    {
      "cell_type": "code",
      "source": [
        "for df in [df_bird, df_climate, df_land]:\n",
        "    df.rename(columns={'LATITUDE': 'Latitude', 'LONGITUDE': 'Longitude'}, inplace=True)"
      ],
      "metadata": {
        "id": "Q0TzoklPbZpR"
      },
      "execution_count": 13,
      "outputs": []
    },
    {
      "cell_type": "code",
      "source": [
        "for i, df in enumerate([df_bird, df_climate, df_land], start=1):\n",
        "    print(f\"Columns in dataframe {i}: {df.columns.tolist()}\")"
      ],
      "metadata": {
        "colab": {
          "base_uri": "https://localhost:8080/"
        },
        "id": "-xbuSspuboMa",
        "outputId": "f5f24733-3696-4daf-83ac-a70347c24207"
      },
      "execution_count": 14,
      "outputs": [
        {
          "output_type": "stream",
          "name": "stdout",
          "text": [
            "Columns in dataframe 1: ['Latitude', 'Longitude', 'Date']\n",
            "Columns in dataframe 2: ['Station_ID', 'Date', 'Latitude', 'Longitude', 'Elevation', 'State', 'StationName', 'Temp_celsius', 'Precip_mm', 'TempFlags', 'Precip_MeasurementFlag', 'Precip_QCFlag', 'Precip_SourceFlag', 'Precip_SourceIndex', 'Precip_FirstYear', 'Precip_LastYear']\n",
            "Columns in dataframe 3: ['Year', 'Date', 'Latitude', 'Longitude', 'Region', 'Land_Cover_Type', 'Land_Cover_Description']\n"
          ]
        }
      ]
    },
    {
      "cell_type": "code",
      "source": [
        "print(df_bird.head())\n",
        "print(df_climate.head())\n",
        "print(df_land.head())"
      ],
      "metadata": {
        "colab": {
          "base_uri": "https://localhost:8080/"
        },
        "id": "1TrJjMuQb3bk",
        "outputId": "0dfb4bdf-0e3d-46a8-8675-879a1f7fa47e"
      },
      "execution_count": 15,
      "outputs": [
        {
          "output_type": "stream",
          "name": "stdout",
          "text": [
            "    Latitude   Longitude     Date\n",
            "0  32.045333 -115.908508  1995-11\n",
            "1  30.409449 -115.945759  1998-03\n",
            "2  30.409449 -115.945759  1998-03\n",
            "3  30.409449 -115.945759  1998-03\n",
            "4  30.409449 -115.945759  1998-03\n",
            "    Station_ID     Date  Latitude  Longitude  Elevation State   StationName  \\\n",
            "0  CA001011500  1961-01   48.9333    -123.75       75.0   NaN  BC CHEMAINUS   \n",
            "1  CA001011500  1962-01   48.9333    -123.75       75.0   NaN  BC CHEMAINUS   \n",
            "2  CA001011500  1963-01   48.9333    -123.75       75.0   NaN  BC CHEMAINUS   \n",
            "3  CA001011500  1964-01   48.9333    -123.75       75.0   NaN  BC CHEMAINUS   \n",
            "4  CA001011500  1965-01   48.9333    -123.75       75.0   NaN  BC CHEMAINUS   \n",
            "\n",
            "   Temp_celsius  Precip_mm TempFlags Precip_MeasurementFlag Precip_QCFlag  \\\n",
            "0          5.01      372.3         E                    NaN           NaN   \n",
            "1          3.53      107.4         E                    NaN           NaN   \n",
            "2          1.55       33.5         E                    NaN           NaN   \n",
            "3          4.56      302.5         E                    NaN           NaN   \n",
            "4          2.73      169.4         E                    NaN           NaN   \n",
            "\n",
            "  Precip_SourceFlag  Precip_SourceIndex  Precip_FirstYear  Precip_LastYear  \n",
            "0                 D             23584.0              1919             2024  \n",
            "1                 D             23584.0              1919             2024  \n",
            "2                 D             23584.0              1919             2024  \n",
            "3                 D             23584.0              1919             2024  \n",
            "4                 D             23584.0              1919             2024  \n",
            "   Year     Date  Latitude   Longitude  Region  Land_Cover_Type  \\\n",
            "0  2001  2001-01      83.0 -170.000000  Canada                0   \n",
            "1  2001  2001-01      83.0 -169.949958  Canada                0   \n",
            "2  2001  2001-01      83.0 -169.899917  Canada                0   \n",
            "3  2001  2001-01      83.0 -169.849875  Canada                0   \n",
            "4  2001  2001-01      83.0 -169.799833  Canada                0   \n",
            "\n",
            "  Land_Cover_Description  \n",
            "0                  Water  \n",
            "1                  Water  \n",
            "2                  Water  \n",
            "3                  Water  \n",
            "4                  Water  \n"
          ]
        }
      ]
    },
    {
      "cell_type": "code",
      "source": [
        "def check_coordinates(df, name):\n",
        "    print(f\"\\nChecking coordinates in {name}:\")\n",
        "    print(\"Invalid Latitude:\", ((df['Latitude'] < -90) | (df['Latitude'] > 90)).sum())\n",
        "    print(\"Invalid Longitude:\", ((df['Longitude'] < -180) | (df['Longitude'] > 180)).sum())\n",
        "\n",
        "check_coordinates(df_bird, \"df_bird\")\n",
        "check_coordinates(df_climate, \"df_climate\")\n",
        "check_coordinates(df_land, \"df_land\")"
      ],
      "metadata": {
        "colab": {
          "base_uri": "https://localhost:8080/"
        },
        "id": "xoqMNY_4eYI4",
        "outputId": "e29951bc-0952-4aba-db58-f140ab705c86"
      },
      "execution_count": 16,
      "outputs": [
        {
          "output_type": "stream",
          "name": "stdout",
          "text": [
            "\n",
            "Checking coordinates in df_bird:\n",
            "Invalid Latitude: 0\n",
            "Invalid Longitude: 0\n",
            "\n",
            "Checking coordinates in df_climate:\n",
            "Invalid Latitude: 0\n",
            "Invalid Longitude: 0\n",
            "\n",
            "Checking coordinates in df_land:\n",
            "Invalid Latitude: 0\n",
            "Invalid Longitude: 0\n"
          ]
        }
      ]
    },
    {
      "cell_type": "code",
      "source": [
        "bird_coords = set(zip(df_bird['Longitude'], df_bird['Latitude']))\n",
        "climate_coords = set(zip(df_climate['Longitude'], df_climate['Latitude']))\n",
        "land_coords = set(zip(df_land['Longitude'], df_land['Latitude']))\n",
        "\n",
        "# Check if all bird and climate coordinates exist in land dataset\n",
        "bird_mismatch = bird_coords - land_coords\n",
        "climate_mismatch = climate_coords - land_coords\n",
        "\n",
        "print(\"\\nMismatched Bird Coordinates:\", len(bird_mismatch))\n",
        "print(\"Mismatched Climate Coordinates:\", len(climate_mismatch))"
      ],
      "metadata": {
        "colab": {
          "base_uri": "https://localhost:8080/"
        },
        "id": "8Pxxwg8MecX0",
        "outputId": "1182cbcd-ce3e-47eb-9752-7fd1fa257f6d"
      },
      "execution_count": 17,
      "outputs": [
        {
          "output_type": "stream",
          "name": "stdout",
          "text": [
            "\n",
            "Mismatched Bird Coordinates: 1111383\n",
            "Mismatched Climate Coordinates: 6812\n"
          ]
        }
      ]
    },
    {
      "cell_type": "code",
      "source": [
        "df_bird['Latitude'] = df_bird['Latitude'].round(1)\n",
        "df_bird['Longitude'] = df_bird['Longitude'].round(2)\n",
        "\n",
        "df_climate['Latitude'] = df_climate['Latitude'].round(1)\n",
        "df_climate['Longitude'] = df_climate['Longitude'].round(2)\n",
        "\n",
        "df_land['Latitude'] = df_land['Latitude'].round(1)\n",
        "df_land['Longitude'] = df_land['Longitude'].round(2)"
      ],
      "metadata": {
        "id": "XNSRQp9acem6"
      },
      "execution_count": 18,
      "outputs": []
    },
    {
      "cell_type": "code",
      "source": [
        "print(df_bird.head())\n",
        "print(df_climate.head())\n",
        "print(df_land.head())"
      ],
      "metadata": {
        "colab": {
          "base_uri": "https://localhost:8080/"
        },
        "id": "Y4jxqVpVc5Ni",
        "outputId": "02c5d3d7-6645-4688-a3ce-3661a6bf1630"
      },
      "execution_count": 19,
      "outputs": [
        {
          "output_type": "stream",
          "name": "stdout",
          "text": [
            "   Latitude  Longitude     Date\n",
            "0      32.0    -115.91  1995-11\n",
            "1      30.4    -115.95  1998-03\n",
            "2      30.4    -115.95  1998-03\n",
            "3      30.4    -115.95  1998-03\n",
            "4      30.4    -115.95  1998-03\n",
            "    Station_ID     Date  Latitude  Longitude  Elevation State   StationName  \\\n",
            "0  CA001011500  1961-01      48.9    -123.75       75.0   NaN  BC CHEMAINUS   \n",
            "1  CA001011500  1962-01      48.9    -123.75       75.0   NaN  BC CHEMAINUS   \n",
            "2  CA001011500  1963-01      48.9    -123.75       75.0   NaN  BC CHEMAINUS   \n",
            "3  CA001011500  1964-01      48.9    -123.75       75.0   NaN  BC CHEMAINUS   \n",
            "4  CA001011500  1965-01      48.9    -123.75       75.0   NaN  BC CHEMAINUS   \n",
            "\n",
            "   Temp_celsius  Precip_mm TempFlags Precip_MeasurementFlag Precip_QCFlag  \\\n",
            "0          5.01      372.3         E                    NaN           NaN   \n",
            "1          3.53      107.4         E                    NaN           NaN   \n",
            "2          1.55       33.5         E                    NaN           NaN   \n",
            "3          4.56      302.5         E                    NaN           NaN   \n",
            "4          2.73      169.4         E                    NaN           NaN   \n",
            "\n",
            "  Precip_SourceFlag  Precip_SourceIndex  Precip_FirstYear  Precip_LastYear  \n",
            "0                 D             23584.0              1919             2024  \n",
            "1                 D             23584.0              1919             2024  \n",
            "2                 D             23584.0              1919             2024  \n",
            "3                 D             23584.0              1919             2024  \n",
            "4                 D             23584.0              1919             2024  \n",
            "   Year     Date  Latitude  Longitude  Region  Land_Cover_Type  \\\n",
            "0  2001  2001-01      83.0    -170.00  Canada                0   \n",
            "1  2001  2001-01      83.0    -169.95  Canada                0   \n",
            "2  2001  2001-01      83.0    -169.90  Canada                0   \n",
            "3  2001  2001-01      83.0    -169.85  Canada                0   \n",
            "4  2001  2001-01      83.0    -169.80  Canada                0   \n",
            "\n",
            "  Land_Cover_Description  \n",
            "0                  Water  \n",
            "1                  Water  \n",
            "2                  Water  \n",
            "3                  Water  \n",
            "4                  Water  \n"
          ]
        }
      ]
    },
    {
      "cell_type": "code",
      "source": [
        "df_bird[['Latitude', 'Longitude']] = df_bird[['Latitude', 'Longitude']].astype('float64')\n",
        "df_climate[['Latitude', 'Longitude']] = df_climate[['Latitude', 'Longitude']].astype('float64')\n",
        "df_land[['Latitude', 'Longitude']] = df_land[['Latitude', 'Longitude']].astype('float64')"
      ],
      "metadata": {
        "id": "VgWJC-cFc_jR"
      },
      "execution_count": 20,
      "outputs": []
    },
    {
      "cell_type": "code",
      "source": [
        "print(df_bird[['Latitude', 'Longitude']].head())\n",
        "print(df_climate[['Latitude', 'Longitude']].head())\n",
        "print(df_land[['Latitude', 'Longitude']].head())"
      ],
      "metadata": {
        "colab": {
          "base_uri": "https://localhost:8080/"
        },
        "id": "cZZt8semdE1y",
        "outputId": "f632e107-8451-47aa-cfb2-62fa0f30c5c5"
      },
      "execution_count": 21,
      "outputs": [
        {
          "output_type": "stream",
          "name": "stdout",
          "text": [
            "   Latitude  Longitude\n",
            "0      32.0    -115.91\n",
            "1      30.4    -115.95\n",
            "2      30.4    -115.95\n",
            "3      30.4    -115.95\n",
            "4      30.4    -115.95\n",
            "   Latitude  Longitude\n",
            "0      48.9    -123.75\n",
            "1      48.9    -123.75\n",
            "2      48.9    -123.75\n",
            "3      48.9    -123.75\n",
            "4      48.9    -123.75\n",
            "   Latitude  Longitude\n",
            "0      83.0    -170.00\n",
            "1      83.0    -169.95\n",
            "2      83.0    -169.90\n",
            "3      83.0    -169.85\n",
            "4      83.0    -169.80\n"
          ]
        }
      ]
    },
    {
      "cell_type": "code",
      "source": [
        "print(df_bird[['Latitude', 'Longitude']].applymap(lambda x: len(str(x).split('.')[-1])))\n",
        "print(df_climate[['Latitude', 'Longitude']].applymap(lambda x: len(str(x).split('.')[-1])))\n",
        "print(df_land[['Latitude', 'Longitude']].applymap(lambda x: len(str(x).split('.')[-1])))"
      ],
      "metadata": {
        "colab": {
          "base_uri": "https://localhost:8080/"
        },
        "id": "awbAcSjhdL3q",
        "outputId": "8639e59e-a9d4-4af6-9aeb-b5cf231af320"
      },
      "execution_count": 22,
      "outputs": [
        {
          "output_type": "stream",
          "name": "stderr",
          "text": [
            "<ipython-input-22-b7779b7f5b12>:1: FutureWarning: DataFrame.applymap has been deprecated. Use DataFrame.map instead.\n",
            "  print(df_bird[['Latitude', 'Longitude']].applymap(lambda x: len(str(x).split('.')[-1])))\n"
          ]
        },
        {
          "output_type": "stream",
          "name": "stdout",
          "text": [
            "         Latitude  Longitude\n",
            "0               1          2\n",
            "1               1          2\n",
            "2               1          2\n",
            "3               1          2\n",
            "4               1          2\n",
            "...           ...        ...\n",
            "7498831         1          2\n",
            "7498832         1          2\n",
            "7498833         1          2\n",
            "7498834         1          2\n",
            "7498835         1          2\n",
            "\n",
            "[7498836 rows x 2 columns]\n"
          ]
        },
        {
          "output_type": "stream",
          "name": "stderr",
          "text": [
            "<ipython-input-22-b7779b7f5b12>:2: FutureWarning: DataFrame.applymap has been deprecated. Use DataFrame.map instead.\n",
            "  print(df_climate[['Latitude', 'Longitude']].applymap(lambda x: len(str(x).split('.')[-1])))\n"
          ]
        },
        {
          "output_type": "stream",
          "name": "stdout",
          "text": [
            "         Latitude  Longitude\n",
            "0               1          2\n",
            "1               1          2\n",
            "2               1          2\n",
            "3               1          2\n",
            "4               1          2\n",
            "...           ...        ...\n",
            "1484391         1          2\n",
            "1484392         1          2\n",
            "1484393         1          2\n",
            "1484394         1          2\n",
            "1484395         1          2\n",
            "\n",
            "[1484396 rows x 2 columns]\n"
          ]
        },
        {
          "output_type": "stream",
          "name": "stderr",
          "text": [
            "<ipython-input-22-b7779b7f5b12>:3: FutureWarning: DataFrame.applymap has been deprecated. Use DataFrame.map instead.\n",
            "  print(df_land[['Latitude', 'Longitude']].applymap(lambda x: len(str(x).split('.')[-1])))\n"
          ]
        },
        {
          "output_type": "stream",
          "name": "stdout",
          "text": [
            "          Latitude  Longitude\n",
            "0                1          1\n",
            "1                1          2\n",
            "2                1          1\n",
            "3                1          2\n",
            "4                1          1\n",
            "...            ...        ...\n",
            "74985538         1          1\n",
            "74985539         1          2\n",
            "74985540         1          1\n",
            "74985541         1          2\n",
            "74985542         1          1\n",
            "\n",
            "[74985543 rows x 2 columns]\n"
          ]
        }
      ]
    },
    {
      "cell_type": "code",
      "source": [
        "# Find mismatched coordinates using a left merge\n",
        "mismatched_coords = df_bird.merge(df_land[['Longitude', 'Latitude']],\n",
        "                                  on=['Longitude', 'Latitude'],\n",
        "                                  how='left',\n",
        "                                  indicator=True).query('_merge == \"left_only\"')\n",
        "\n",
        "print(\"Mismatched coordinates in Bird vs Land:\", mismatched_coords.shape[0])\n",
        "\n",
        "mismatched_coords_climate = df_climate.merge(df_land[['Longitude', 'Latitude']],\n",
        "                                             on=['Longitude', 'Latitude'],\n",
        "                                             how='left',\n",
        "                                             indicator=True).query('_merge == \"left_only\"')\n",
        "\n",
        "print(\"Mismatched coordinates in Climate vs Land:\", mismatched_coords_climate.shape[0])"
      ],
      "metadata": {
        "colab": {
          "base_uri": "https://localhost:8080/"
        },
        "id": "S1nQVtyteB1a",
        "outputId": "15d2ab42-eefe-458d-9ad8-963402bccd58"
      },
      "execution_count": 23,
      "outputs": [
        {
          "output_type": "stream",
          "name": "stdout",
          "text": [
            "Mismatched coordinates in Bird vs Land: 6013034\n",
            "Mismatched coordinates in Climate vs Land: 1215969\n"
          ]
        }
      ]
    },
    {
      "cell_type": "code",
      "source": [
        "df_bird = df_bird.merge(df_land[['Longitude', 'Latitude']], on=['Longitude', 'Latitude'], how='inner')\n",
        "df_climate = df_climate.merge(df_land[['Longitude', 'Latitude']], on=['Longitude', 'Latitude'], how='inner')"
      ],
      "metadata": {
        "id": "3zTEXS2OgBn5"
      },
      "execution_count": 24,
      "outputs": []
    },
    {
      "cell_type": "code",
      "source": [
        "df_merged = df_bird.merge(df_climate, on=['Longitude', 'Latitude', 'Date'], how='inner') \\\n",
        "                   .merge(df_land, on=['Longitude', 'Latitude', 'Date'], how='inner')"
      ],
      "metadata": {
        "id": "SsgDgphyg0XB"
      },
      "execution_count": 25,
      "outputs": []
    },
    {
      "cell_type": "code",
      "source": [
        "print(df_merged.info())\n",
        "print(df_merged.head())"
      ],
      "metadata": {
        "colab": {
          "base_uri": "https://localhost:8080/"
        },
        "id": "DBJi42O4iNk5",
        "outputId": "735fe271-091b-40f5-fc26-9bd4cb954746"
      },
      "execution_count": 26,
      "outputs": [
        {
          "output_type": "stream",
          "name": "stdout",
          "text": [
            "<class 'pandas.core.frame.DataFrame'>\n",
            "RangeIndex: 698280 entries, 0 to 698279\n",
            "Data columns (total 20 columns):\n",
            " #   Column                  Non-Null Count   Dtype  \n",
            "---  ------                  --------------   -----  \n",
            " 0   Latitude                698280 non-null  float64\n",
            " 1   Longitude               698280 non-null  float64\n",
            " 2   Date                    698280 non-null  object \n",
            " 3   Station_ID              698280 non-null  object \n",
            " 4   Elevation               698280 non-null  float64\n",
            " 5   State                   0 non-null       object \n",
            " 6   StationName             698280 non-null  object \n",
            " 7   Temp_celsius            698280 non-null  float64\n",
            " 8   Precip_mm               698280 non-null  float64\n",
            " 9   TempFlags               698280 non-null  object \n",
            " 10  Precip_MeasurementFlag  97336 non-null   object \n",
            " 11  Precip_QCFlag           0 non-null       object \n",
            " 12  Precip_SourceFlag       698280 non-null  object \n",
            " 13  Precip_SourceIndex      698280 non-null  float64\n",
            " 14  Precip_FirstYear        698280 non-null  int64  \n",
            " 15  Precip_LastYear         698280 non-null  int64  \n",
            " 16  Year                    698280 non-null  int64  \n",
            " 17  Region                  698280 non-null  object \n",
            " 18  Land_Cover_Type         698280 non-null  int64  \n",
            " 19  Land_Cover_Description  698280 non-null  object \n",
            "dtypes: float64(6), int64(4), object(10)\n",
            "memory usage: 106.5+ MB\n",
            "None\n",
            "   Latitude  Longitude     Date   Station_ID  Elevation State  \\\n",
            "0      42.3     -82.93  2001-01  CA006139520      188.0   NaN   \n",
            "1      42.3     -82.93  2001-01  CA006139520      188.0   NaN   \n",
            "2      42.3     -82.93  2001-01  CA006139520      188.0   NaN   \n",
            "3      42.3     -82.93  2001-01  CA006139520      188.0   NaN   \n",
            "4      42.3     -82.93  2001-01  CA006139520      188.0   NaN   \n",
            "\n",
            "            StationName  Temp_celsius  Precip_mm TempFlags  \\\n",
            "0  ON WINDSOR RIVERSIDE         -2.59       31.0       EXC   \n",
            "1  ON WINDSOR RIVERSIDE         -2.59       31.0       EXC   \n",
            "2  ON WINDSOR RIVERSIDE         -2.59       31.0       EXC   \n",
            "3  ON WINDSOR RIVERSIDE         -2.59       31.0       EXC   \n",
            "4  ON WINDSOR RIVERSIDE         -2.59       31.0       EXC   \n",
            "\n",
            "  Precip_MeasurementFlag Precip_QCFlag Precip_SourceFlag  Precip_SourceIndex  \\\n",
            "0                    NaN           NaN                 D             29101.0   \n",
            "1                    NaN           NaN                 D             29101.0   \n",
            "2                    NaN           NaN                 D             29101.0   \n",
            "3                    NaN           NaN                 D             29101.0   \n",
            "4                    NaN           NaN                 D             29101.0   \n",
            "\n",
            "   Precip_FirstYear  Precip_LastYear  Year Region  Land_Cover_Type  \\\n",
            "0              1866             2024  2001     US               13   \n",
            "1              1866             2024  2001     US               13   \n",
            "2              1866             2024  2001     US               13   \n",
            "3              1866             2024  2001     US               13   \n",
            "4              1866             2024  2001     US               13   \n",
            "\n",
            "  Land_Cover_Description  \n",
            "0     Urban and Built-up  \n",
            "1     Urban and Built-up  \n",
            "2     Urban and Built-up  \n",
            "3     Urban and Built-up  \n",
            "4     Urban and Built-up  \n"
          ]
        }
      ]
    },
    {
      "cell_type": "code",
      "source": [
        "# Check if 'Land_Cover_Description' is in the merged dataset\n",
        "if 'Land_Cover_Description' not in df_merged.columns:\n",
        "    df_merged = df_merged.merge(df_land[['Longitude', 'Latitude', 'Date', 'Land_Cover_Description']],\n",
        "                                on=['Longitude', 'Latitude', 'Date'],\n",
        "                                how='left')  # Use 'left' to preserve existing data"
      ],
      "metadata": {
        "id": "aD9ptgsoizVJ"
      },
      "execution_count": 27,
      "outputs": []
    },
    {
      "cell_type": "code",
      "source": [
        "print(df_merged[['Longitude', 'Latitude', 'Date', 'Land_Cover_Description']].head())"
      ],
      "metadata": {
        "colab": {
          "base_uri": "https://localhost:8080/"
        },
        "id": "fg8oRzI6i8W5",
        "outputId": "bc73fdc4-a683-4eb2-cd56-2a5852cf0cf4"
      },
      "execution_count": 28,
      "outputs": [
        {
          "output_type": "stream",
          "name": "stdout",
          "text": [
            "   Longitude  Latitude     Date Land_Cover_Description\n",
            "0     -82.93      42.3  2001-01     Urban and Built-up\n",
            "1     -82.93      42.3  2001-01     Urban and Built-up\n",
            "2     -82.93      42.3  2001-01     Urban and Built-up\n",
            "3     -82.93      42.3  2001-01     Urban and Built-up\n",
            "4     -82.93      42.3  2001-01     Urban and Built-up\n"
          ]
        }
      ]
    },
    {
      "cell_type": "code",
      "source": [
        "print(df_merged.columns)"
      ],
      "metadata": {
        "colab": {
          "base_uri": "https://localhost:8080/"
        },
        "id": "RRqjTuT4jFbz",
        "outputId": "44e04b38-74b4-4e79-b265-5c46abdb061f"
      },
      "execution_count": 29,
      "outputs": [
        {
          "output_type": "stream",
          "name": "stdout",
          "text": [
            "Index(['Latitude', 'Longitude', 'Date', 'Station_ID', 'Elevation', 'State',\n",
            "       'StationName', 'Temp_celsius', 'Precip_mm', 'TempFlags',\n",
            "       'Precip_MeasurementFlag', 'Precip_QCFlag', 'Precip_SourceFlag',\n",
            "       'Precip_SourceIndex', 'Precip_FirstYear', 'Precip_LastYear', 'Year',\n",
            "       'Region', 'Land_Cover_Type', 'Land_Cover_Description'],\n",
            "      dtype='object')\n"
          ]
        }
      ]
    },
    {
      "cell_type": "code",
      "source": [
        "# Ensure Date column is in YYYY-MM format\n",
        "df_merged['Date'] = pd.to_datetime(df_merged['Date']).dt.to_period('M')\n",
        "\n",
        "# Define aggregation rules\n",
        "aggregation_rules = {\n",
        "    'Temp_celsius': 'mean',    # Average temperature\n",
        "    'Precip_mm': 'sum',        # Total precipitation\n",
        "    'Elevation': 'mean',       # Elevation should remain the same\n",
        "    'Land_Cover_Description': 'first'  # Keep first occurrence (assuming it’s the same)\n",
        "}\n",
        "\n",
        "# Perform the monthly aggregation\n",
        "df_monthly = df_merged.groupby(['Longitude', 'Latitude', 'Date']).agg(aggregation_rules).reset_index()"
      ],
      "metadata": {
        "id": "V0gXuRz9jeJa"
      },
      "execution_count": 30,
      "outputs": []
    },
    {
      "cell_type": "code",
      "source": [
        "print(df_monthly.head(100000))"
      ],
      "metadata": {
        "colab": {
          "base_uri": "https://localhost:8080/"
        },
        "id": "c88925afjzzZ",
        "outputId": "91a95c78-f19c-4382-9cca-14317c8f9e0d"
      },
      "execution_count": 31,
      "outputs": [
        {
          "output_type": "stream",
          "name": "stdout",
          "text": [
            "    Longitude  Latitude     Date  Temp_celsius  Precip_mm  Elevation  \\\n",
            "0     -128.62      54.5  2007-01         -0.62   909033.6       58.0   \n",
            "1     -123.51      48.1  2009-01          3.77   344061.6       83.2   \n",
            "2     -123.36      43.2  2010-01          9.72   477792.8      153.0   \n",
            "3     -122.21      47.5  2004-01          5.54  6509239.2        5.5   \n",
            "4     -122.21      47.5  2006-01          7.56  2487569.6        5.5   \n",
            "5     -122.21      47.5  2007-01          4.16  5014920.0        5.5   \n",
            "6     -122.21      47.5  2008-01          4.21   754988.8        5.5   \n",
            "7     -122.21      47.5  2009-01          4.46  2209104.0        5.5   \n",
            "8     -122.21      47.5  2010-01          8.58   606022.4        5.5   \n",
            "9     -119.26      45.8  2005-01          1.06    53746.4      195.1   \n",
            "10    -106.80      37.5  2001-01         -7.83   591210.4     3352.8   \n",
            "11    -104.85      39.6  2001-01         -0.26   146427.2     1789.2   \n",
            "12    -104.85      39.6  2002-01         -0.34    52053.6     1789.2   \n",
            "13    -104.85      39.6  2003-01          3.65     5501.6     1789.2   \n",
            "14    -104.85      39.6  2004-01          1.10   186631.2     1789.2   \n",
            "15    -104.85      39.6  2005-01          1.96   487526.4     1789.2   \n",
            "16    -104.85      39.6  2006-01          3.64   820161.6     1789.2   \n",
            "17    -104.85      39.6  2007-01         -4.78  1625088.0     1789.2   \n",
            "18    -104.85      39.6  2008-01         -2.25  1250132.8     1789.2   \n",
            "19    -104.85      39.6  2009-01          2.06   150236.0     1789.2   \n",
            "20    -104.85      39.6  2010-01          0.19    13965.6     1789.2   \n",
            "21     -89.73      43.3  2001-01         -5.70   120188.8      237.7   \n",
            "22     -89.73      43.3  2003-01         -7.79    88025.6      237.7   \n",
            "23     -89.73      43.3  2005-01         -7.29   676696.8      237.7   \n",
            "24     -89.73      43.3  2006-01         -0.14   200173.6      237.7   \n",
            "25     -89.73      43.3  2007-01         -4.66   555238.4      237.7   \n",
            "26     -89.73      43.3  2008-01         -8.10   393576.0      237.7   \n",
            "27     -84.33      46.5  2001-01         -6.43   288199.2      212.0   \n",
            "28     -82.93      42.3  2001-01         -2.59   131192.0      188.0   \n",
            "29     -82.93      42.3  2004-01         -6.17   231067.2      188.0   \n",
            "30     -82.93      42.3  2009-01         -7.37   249264.8      188.0   \n",
            "31     -82.93      42.3  2010-01         -3.42   331365.6      188.0   \n",
            "32     -78.17      44.0  2004-01        -10.12   746524.8       78.0   \n",
            "33     -78.17      44.0  2005-01         -7.23   245456.0       78.0   \n",
            "34     -76.42      38.3  2001-01          1.57   212869.6       11.9   \n",
            "35     -76.42      38.3  2003-01         -0.46   266192.8       11.9   \n",
            "36     -76.42      38.3  2007-01          4.63   282274.4       11.9   \n",
            "37     -75.72      45.4  2003-01        -12.90   204405.6       79.0   \n",
            "38     -75.72      45.4  2006-01         -5.17  1802832.0       79.0   \n",
            "39     -75.72      45.4  2007-01         -7.50   515034.4       79.0   \n",
            "40     -75.12      38.3  2004-01         -0.10   335597.6        1.8   \n",
            "41     -75.12      38.3  2005-01          2.39   476100.0        1.8   \n",
            "42     -75.12      38.3  2008-01          3.13   168433.6        1.8   \n",
            "43     -75.12      38.3  2010-01          1.25  1117248.0        1.8   \n",
            "44     -74.62      46.0  2005-01        -13.09   177744.0      191.0   \n",
            "45     -70.22      44.1  2010-01         -4.85   714361.6       54.9   \n",
            "46     -68.52      48.4  2002-01         -9.15   191709.6       36.0   \n",
            "47     -68.52      48.4  2009-01        -14.05   423200.0       36.0   \n",
            "48     -68.52      48.4  2010-01         -5.68   165048.0       36.0   \n",
            "\n",
            "         Land_Cover_Description  \n",
            "0                      Savannas  \n",
            "1                         Water  \n",
            "2   Evergreen Needleleaf Forest  \n",
            "3   Evergreen Needleleaf Forest  \n",
            "4   Evergreen Needleleaf Forest  \n",
            "5   Evergreen Needleleaf Forest  \n",
            "6   Evergreen Needleleaf Forest  \n",
            "7   Evergreen Needleleaf Forest  \n",
            "8   Evergreen Needleleaf Forest  \n",
            "9            Urban and Built-up  \n",
            "10               Woody Savannas  \n",
            "11           Urban and Built-up  \n",
            "12           Urban and Built-up  \n",
            "13           Urban and Built-up  \n",
            "14           Urban and Built-up  \n",
            "15           Urban and Built-up  \n",
            "16           Urban and Built-up  \n",
            "17           Urban and Built-up  \n",
            "18           Urban and Built-up  \n",
            "19           Urban and Built-up  \n",
            "20           Urban and Built-up  \n",
            "21                    Croplands  \n",
            "22                    Croplands  \n",
            "23                    Croplands  \n",
            "24                    Croplands  \n",
            "25                    Croplands  \n",
            "26                    Croplands  \n",
            "27               Woody Savannas  \n",
            "28           Urban and Built-up  \n",
            "29           Urban and Built-up  \n",
            "30           Urban and Built-up  \n",
            "31           Urban and Built-up  \n",
            "32                    Croplands  \n",
            "33                    Croplands  \n",
            "34   Deciduous Broadleaf Forest  \n",
            "35               Woody Savannas  \n",
            "36   Deciduous Broadleaf Forest  \n",
            "37                     Savannas  \n",
            "38           Urban and Built-up  \n",
            "39           Urban and Built-up  \n",
            "40                     Savannas  \n",
            "41               Woody Savannas  \n",
            "42                     Savannas  \n",
            "43                     Savannas  \n",
            "44               Woody Savannas  \n",
            "45   Deciduous Broadleaf Forest  \n",
            "46                        Water  \n",
            "47                        Water  \n",
            "48                        Water  \n"
          ]
        }
      ]
    },
    {
      "cell_type": "code",
      "source": [
        "df_monthly.head(1000000)"
      ],
      "metadata": {
        "colab": {
          "base_uri": "https://localhost:8080/",
          "height": 1000
        },
        "id": "6WDN7IIBkBhC",
        "outputId": "9e0377ae-d0ee-4034-e356-6540b4b8efd3"
      },
      "execution_count": 32,
      "outputs": [
        {
          "output_type": "execute_result",
          "data": {
            "text/plain": [
              "    Longitude  Latitude     Date  Temp_celsius  Precip_mm  Elevation  \\\n",
              "0     -128.62      54.5  2007-01         -0.62   909033.6       58.0   \n",
              "1     -123.51      48.1  2009-01          3.77   344061.6       83.2   \n",
              "2     -123.36      43.2  2010-01          9.72   477792.8      153.0   \n",
              "3     -122.21      47.5  2004-01          5.54  6509239.2        5.5   \n",
              "4     -122.21      47.5  2006-01          7.56  2487569.6        5.5   \n",
              "5     -122.21      47.5  2007-01          4.16  5014920.0        5.5   \n",
              "6     -122.21      47.5  2008-01          4.21   754988.8        5.5   \n",
              "7     -122.21      47.5  2009-01          4.46  2209104.0        5.5   \n",
              "8     -122.21      47.5  2010-01          8.58   606022.4        5.5   \n",
              "9     -119.26      45.8  2005-01          1.06    53746.4      195.1   \n",
              "10    -106.80      37.5  2001-01         -7.83   591210.4     3352.8   \n",
              "11    -104.85      39.6  2001-01         -0.26   146427.2     1789.2   \n",
              "12    -104.85      39.6  2002-01         -0.34    52053.6     1789.2   \n",
              "13    -104.85      39.6  2003-01          3.65     5501.6     1789.2   \n",
              "14    -104.85      39.6  2004-01          1.10   186631.2     1789.2   \n",
              "15    -104.85      39.6  2005-01          1.96   487526.4     1789.2   \n",
              "16    -104.85      39.6  2006-01          3.64   820161.6     1789.2   \n",
              "17    -104.85      39.6  2007-01         -4.78  1625088.0     1789.2   \n",
              "18    -104.85      39.6  2008-01         -2.25  1250132.8     1789.2   \n",
              "19    -104.85      39.6  2009-01          2.06   150236.0     1789.2   \n",
              "20    -104.85      39.6  2010-01          0.19    13965.6     1789.2   \n",
              "21     -89.73      43.3  2001-01         -5.70   120188.8      237.7   \n",
              "22     -89.73      43.3  2003-01         -7.79    88025.6      237.7   \n",
              "23     -89.73      43.3  2005-01         -7.29   676696.8      237.7   \n",
              "24     -89.73      43.3  2006-01         -0.14   200173.6      237.7   \n",
              "25     -89.73      43.3  2007-01         -4.66   555238.4      237.7   \n",
              "26     -89.73      43.3  2008-01         -8.10   393576.0      237.7   \n",
              "27     -84.33      46.5  2001-01         -6.43   288199.2      212.0   \n",
              "28     -82.93      42.3  2001-01         -2.59   131192.0      188.0   \n",
              "29     -82.93      42.3  2004-01         -6.17   231067.2      188.0   \n",
              "30     -82.93      42.3  2009-01         -7.37   249264.8      188.0   \n",
              "31     -82.93      42.3  2010-01         -3.42   331365.6      188.0   \n",
              "32     -78.17      44.0  2004-01        -10.12   746524.8       78.0   \n",
              "33     -78.17      44.0  2005-01         -7.23   245456.0       78.0   \n",
              "34     -76.42      38.3  2001-01          1.57   212869.6       11.9   \n",
              "35     -76.42      38.3  2003-01         -0.46   266192.8       11.9   \n",
              "36     -76.42      38.3  2007-01          4.63   282274.4       11.9   \n",
              "37     -75.72      45.4  2003-01        -12.90   204405.6       79.0   \n",
              "38     -75.72      45.4  2006-01         -5.17  1802832.0       79.0   \n",
              "39     -75.72      45.4  2007-01         -7.50   515034.4       79.0   \n",
              "40     -75.12      38.3  2004-01         -0.10   335597.6        1.8   \n",
              "41     -75.12      38.3  2005-01          2.39   476100.0        1.8   \n",
              "42     -75.12      38.3  2008-01          3.13   168433.6        1.8   \n",
              "43     -75.12      38.3  2010-01          1.25  1117248.0        1.8   \n",
              "44     -74.62      46.0  2005-01        -13.09   177744.0      191.0   \n",
              "45     -70.22      44.1  2010-01         -4.85   714361.6       54.9   \n",
              "46     -68.52      48.4  2002-01         -9.15   191709.6       36.0   \n",
              "47     -68.52      48.4  2009-01        -14.05   423200.0       36.0   \n",
              "48     -68.52      48.4  2010-01         -5.68   165048.0       36.0   \n",
              "\n",
              "         Land_Cover_Description  \n",
              "0                      Savannas  \n",
              "1                         Water  \n",
              "2   Evergreen Needleleaf Forest  \n",
              "3   Evergreen Needleleaf Forest  \n",
              "4   Evergreen Needleleaf Forest  \n",
              "5   Evergreen Needleleaf Forest  \n",
              "6   Evergreen Needleleaf Forest  \n",
              "7   Evergreen Needleleaf Forest  \n",
              "8   Evergreen Needleleaf Forest  \n",
              "9            Urban and Built-up  \n",
              "10               Woody Savannas  \n",
              "11           Urban and Built-up  \n",
              "12           Urban and Built-up  \n",
              "13           Urban and Built-up  \n",
              "14           Urban and Built-up  \n",
              "15           Urban and Built-up  \n",
              "16           Urban and Built-up  \n",
              "17           Urban and Built-up  \n",
              "18           Urban and Built-up  \n",
              "19           Urban and Built-up  \n",
              "20           Urban and Built-up  \n",
              "21                    Croplands  \n",
              "22                    Croplands  \n",
              "23                    Croplands  \n",
              "24                    Croplands  \n",
              "25                    Croplands  \n",
              "26                    Croplands  \n",
              "27               Woody Savannas  \n",
              "28           Urban and Built-up  \n",
              "29           Urban and Built-up  \n",
              "30           Urban and Built-up  \n",
              "31           Urban and Built-up  \n",
              "32                    Croplands  \n",
              "33                    Croplands  \n",
              "34   Deciduous Broadleaf Forest  \n",
              "35               Woody Savannas  \n",
              "36   Deciduous Broadleaf Forest  \n",
              "37                     Savannas  \n",
              "38           Urban and Built-up  \n",
              "39           Urban and Built-up  \n",
              "40                     Savannas  \n",
              "41               Woody Savannas  \n",
              "42                     Savannas  \n",
              "43                     Savannas  \n",
              "44               Woody Savannas  \n",
              "45   Deciduous Broadleaf Forest  \n",
              "46                        Water  \n",
              "47                        Water  \n",
              "48                        Water  "
            ],
            "text/html": [
              "\n",
              "  <div id=\"df-d9b614bc-dc5a-4a3e-941c-d95ce805b012\" class=\"colab-df-container\">\n",
              "    <div>\n",
              "<style scoped>\n",
              "    .dataframe tbody tr th:only-of-type {\n",
              "        vertical-align: middle;\n",
              "    }\n",
              "\n",
              "    .dataframe tbody tr th {\n",
              "        vertical-align: top;\n",
              "    }\n",
              "\n",
              "    .dataframe thead th {\n",
              "        text-align: right;\n",
              "    }\n",
              "</style>\n",
              "<table border=\"1\" class=\"dataframe\">\n",
              "  <thead>\n",
              "    <tr style=\"text-align: right;\">\n",
              "      <th></th>\n",
              "      <th>Longitude</th>\n",
              "      <th>Latitude</th>\n",
              "      <th>Date</th>\n",
              "      <th>Temp_celsius</th>\n",
              "      <th>Precip_mm</th>\n",
              "      <th>Elevation</th>\n",
              "      <th>Land_Cover_Description</th>\n",
              "    </tr>\n",
              "  </thead>\n",
              "  <tbody>\n",
              "    <tr>\n",
              "      <th>0</th>\n",
              "      <td>-128.62</td>\n",
              "      <td>54.5</td>\n",
              "      <td>2007-01</td>\n",
              "      <td>-0.62</td>\n",
              "      <td>909033.6</td>\n",
              "      <td>58.0</td>\n",
              "      <td>Savannas</td>\n",
              "    </tr>\n",
              "    <tr>\n",
              "      <th>1</th>\n",
              "      <td>-123.51</td>\n",
              "      <td>48.1</td>\n",
              "      <td>2009-01</td>\n",
              "      <td>3.77</td>\n",
              "      <td>344061.6</td>\n",
              "      <td>83.2</td>\n",
              "      <td>Water</td>\n",
              "    </tr>\n",
              "    <tr>\n",
              "      <th>2</th>\n",
              "      <td>-123.36</td>\n",
              "      <td>43.2</td>\n",
              "      <td>2010-01</td>\n",
              "      <td>9.72</td>\n",
              "      <td>477792.8</td>\n",
              "      <td>153.0</td>\n",
              "      <td>Evergreen Needleleaf Forest</td>\n",
              "    </tr>\n",
              "    <tr>\n",
              "      <th>3</th>\n",
              "      <td>-122.21</td>\n",
              "      <td>47.5</td>\n",
              "      <td>2004-01</td>\n",
              "      <td>5.54</td>\n",
              "      <td>6509239.2</td>\n",
              "      <td>5.5</td>\n",
              "      <td>Evergreen Needleleaf Forest</td>\n",
              "    </tr>\n",
              "    <tr>\n",
              "      <th>4</th>\n",
              "      <td>-122.21</td>\n",
              "      <td>47.5</td>\n",
              "      <td>2006-01</td>\n",
              "      <td>7.56</td>\n",
              "      <td>2487569.6</td>\n",
              "      <td>5.5</td>\n",
              "      <td>Evergreen Needleleaf Forest</td>\n",
              "    </tr>\n",
              "    <tr>\n",
              "      <th>5</th>\n",
              "      <td>-122.21</td>\n",
              "      <td>47.5</td>\n",
              "      <td>2007-01</td>\n",
              "      <td>4.16</td>\n",
              "      <td>5014920.0</td>\n",
              "      <td>5.5</td>\n",
              "      <td>Evergreen Needleleaf Forest</td>\n",
              "    </tr>\n",
              "    <tr>\n",
              "      <th>6</th>\n",
              "      <td>-122.21</td>\n",
              "      <td>47.5</td>\n",
              "      <td>2008-01</td>\n",
              "      <td>4.21</td>\n",
              "      <td>754988.8</td>\n",
              "      <td>5.5</td>\n",
              "      <td>Evergreen Needleleaf Forest</td>\n",
              "    </tr>\n",
              "    <tr>\n",
              "      <th>7</th>\n",
              "      <td>-122.21</td>\n",
              "      <td>47.5</td>\n",
              "      <td>2009-01</td>\n",
              "      <td>4.46</td>\n",
              "      <td>2209104.0</td>\n",
              "      <td>5.5</td>\n",
              "      <td>Evergreen Needleleaf Forest</td>\n",
              "    </tr>\n",
              "    <tr>\n",
              "      <th>8</th>\n",
              "      <td>-122.21</td>\n",
              "      <td>47.5</td>\n",
              "      <td>2010-01</td>\n",
              "      <td>8.58</td>\n",
              "      <td>606022.4</td>\n",
              "      <td>5.5</td>\n",
              "      <td>Evergreen Needleleaf Forest</td>\n",
              "    </tr>\n",
              "    <tr>\n",
              "      <th>9</th>\n",
              "      <td>-119.26</td>\n",
              "      <td>45.8</td>\n",
              "      <td>2005-01</td>\n",
              "      <td>1.06</td>\n",
              "      <td>53746.4</td>\n",
              "      <td>195.1</td>\n",
              "      <td>Urban and Built-up</td>\n",
              "    </tr>\n",
              "    <tr>\n",
              "      <th>10</th>\n",
              "      <td>-106.80</td>\n",
              "      <td>37.5</td>\n",
              "      <td>2001-01</td>\n",
              "      <td>-7.83</td>\n",
              "      <td>591210.4</td>\n",
              "      <td>3352.8</td>\n",
              "      <td>Woody Savannas</td>\n",
              "    </tr>\n",
              "    <tr>\n",
              "      <th>11</th>\n",
              "      <td>-104.85</td>\n",
              "      <td>39.6</td>\n",
              "      <td>2001-01</td>\n",
              "      <td>-0.26</td>\n",
              "      <td>146427.2</td>\n",
              "      <td>1789.2</td>\n",
              "      <td>Urban and Built-up</td>\n",
              "    </tr>\n",
              "    <tr>\n",
              "      <th>12</th>\n",
              "      <td>-104.85</td>\n",
              "      <td>39.6</td>\n",
              "      <td>2002-01</td>\n",
              "      <td>-0.34</td>\n",
              "      <td>52053.6</td>\n",
              "      <td>1789.2</td>\n",
              "      <td>Urban and Built-up</td>\n",
              "    </tr>\n",
              "    <tr>\n",
              "      <th>13</th>\n",
              "      <td>-104.85</td>\n",
              "      <td>39.6</td>\n",
              "      <td>2003-01</td>\n",
              "      <td>3.65</td>\n",
              "      <td>5501.6</td>\n",
              "      <td>1789.2</td>\n",
              "      <td>Urban and Built-up</td>\n",
              "    </tr>\n",
              "    <tr>\n",
              "      <th>14</th>\n",
              "      <td>-104.85</td>\n",
              "      <td>39.6</td>\n",
              "      <td>2004-01</td>\n",
              "      <td>1.10</td>\n",
              "      <td>186631.2</td>\n",
              "      <td>1789.2</td>\n",
              "      <td>Urban and Built-up</td>\n",
              "    </tr>\n",
              "    <tr>\n",
              "      <th>15</th>\n",
              "      <td>-104.85</td>\n",
              "      <td>39.6</td>\n",
              "      <td>2005-01</td>\n",
              "      <td>1.96</td>\n",
              "      <td>487526.4</td>\n",
              "      <td>1789.2</td>\n",
              "      <td>Urban and Built-up</td>\n",
              "    </tr>\n",
              "    <tr>\n",
              "      <th>16</th>\n",
              "      <td>-104.85</td>\n",
              "      <td>39.6</td>\n",
              "      <td>2006-01</td>\n",
              "      <td>3.64</td>\n",
              "      <td>820161.6</td>\n",
              "      <td>1789.2</td>\n",
              "      <td>Urban and Built-up</td>\n",
              "    </tr>\n",
              "    <tr>\n",
              "      <th>17</th>\n",
              "      <td>-104.85</td>\n",
              "      <td>39.6</td>\n",
              "      <td>2007-01</td>\n",
              "      <td>-4.78</td>\n",
              "      <td>1625088.0</td>\n",
              "      <td>1789.2</td>\n",
              "      <td>Urban and Built-up</td>\n",
              "    </tr>\n",
              "    <tr>\n",
              "      <th>18</th>\n",
              "      <td>-104.85</td>\n",
              "      <td>39.6</td>\n",
              "      <td>2008-01</td>\n",
              "      <td>-2.25</td>\n",
              "      <td>1250132.8</td>\n",
              "      <td>1789.2</td>\n",
              "      <td>Urban and Built-up</td>\n",
              "    </tr>\n",
              "    <tr>\n",
              "      <th>19</th>\n",
              "      <td>-104.85</td>\n",
              "      <td>39.6</td>\n",
              "      <td>2009-01</td>\n",
              "      <td>2.06</td>\n",
              "      <td>150236.0</td>\n",
              "      <td>1789.2</td>\n",
              "      <td>Urban and Built-up</td>\n",
              "    </tr>\n",
              "    <tr>\n",
              "      <th>20</th>\n",
              "      <td>-104.85</td>\n",
              "      <td>39.6</td>\n",
              "      <td>2010-01</td>\n",
              "      <td>0.19</td>\n",
              "      <td>13965.6</td>\n",
              "      <td>1789.2</td>\n",
              "      <td>Urban and Built-up</td>\n",
              "    </tr>\n",
              "    <tr>\n",
              "      <th>21</th>\n",
              "      <td>-89.73</td>\n",
              "      <td>43.3</td>\n",
              "      <td>2001-01</td>\n",
              "      <td>-5.70</td>\n",
              "      <td>120188.8</td>\n",
              "      <td>237.7</td>\n",
              "      <td>Croplands</td>\n",
              "    </tr>\n",
              "    <tr>\n",
              "      <th>22</th>\n",
              "      <td>-89.73</td>\n",
              "      <td>43.3</td>\n",
              "      <td>2003-01</td>\n",
              "      <td>-7.79</td>\n",
              "      <td>88025.6</td>\n",
              "      <td>237.7</td>\n",
              "      <td>Croplands</td>\n",
              "    </tr>\n",
              "    <tr>\n",
              "      <th>23</th>\n",
              "      <td>-89.73</td>\n",
              "      <td>43.3</td>\n",
              "      <td>2005-01</td>\n",
              "      <td>-7.29</td>\n",
              "      <td>676696.8</td>\n",
              "      <td>237.7</td>\n",
              "      <td>Croplands</td>\n",
              "    </tr>\n",
              "    <tr>\n",
              "      <th>24</th>\n",
              "      <td>-89.73</td>\n",
              "      <td>43.3</td>\n",
              "      <td>2006-01</td>\n",
              "      <td>-0.14</td>\n",
              "      <td>200173.6</td>\n",
              "      <td>237.7</td>\n",
              "      <td>Croplands</td>\n",
              "    </tr>\n",
              "    <tr>\n",
              "      <th>25</th>\n",
              "      <td>-89.73</td>\n",
              "      <td>43.3</td>\n",
              "      <td>2007-01</td>\n",
              "      <td>-4.66</td>\n",
              "      <td>555238.4</td>\n",
              "      <td>237.7</td>\n",
              "      <td>Croplands</td>\n",
              "    </tr>\n",
              "    <tr>\n",
              "      <th>26</th>\n",
              "      <td>-89.73</td>\n",
              "      <td>43.3</td>\n",
              "      <td>2008-01</td>\n",
              "      <td>-8.10</td>\n",
              "      <td>393576.0</td>\n",
              "      <td>237.7</td>\n",
              "      <td>Croplands</td>\n",
              "    </tr>\n",
              "    <tr>\n",
              "      <th>27</th>\n",
              "      <td>-84.33</td>\n",
              "      <td>46.5</td>\n",
              "      <td>2001-01</td>\n",
              "      <td>-6.43</td>\n",
              "      <td>288199.2</td>\n",
              "      <td>212.0</td>\n",
              "      <td>Woody Savannas</td>\n",
              "    </tr>\n",
              "    <tr>\n",
              "      <th>28</th>\n",
              "      <td>-82.93</td>\n",
              "      <td>42.3</td>\n",
              "      <td>2001-01</td>\n",
              "      <td>-2.59</td>\n",
              "      <td>131192.0</td>\n",
              "      <td>188.0</td>\n",
              "      <td>Urban and Built-up</td>\n",
              "    </tr>\n",
              "    <tr>\n",
              "      <th>29</th>\n",
              "      <td>-82.93</td>\n",
              "      <td>42.3</td>\n",
              "      <td>2004-01</td>\n",
              "      <td>-6.17</td>\n",
              "      <td>231067.2</td>\n",
              "      <td>188.0</td>\n",
              "      <td>Urban and Built-up</td>\n",
              "    </tr>\n",
              "    <tr>\n",
              "      <th>30</th>\n",
              "      <td>-82.93</td>\n",
              "      <td>42.3</td>\n",
              "      <td>2009-01</td>\n",
              "      <td>-7.37</td>\n",
              "      <td>249264.8</td>\n",
              "      <td>188.0</td>\n",
              "      <td>Urban and Built-up</td>\n",
              "    </tr>\n",
              "    <tr>\n",
              "      <th>31</th>\n",
              "      <td>-82.93</td>\n",
              "      <td>42.3</td>\n",
              "      <td>2010-01</td>\n",
              "      <td>-3.42</td>\n",
              "      <td>331365.6</td>\n",
              "      <td>188.0</td>\n",
              "      <td>Urban and Built-up</td>\n",
              "    </tr>\n",
              "    <tr>\n",
              "      <th>32</th>\n",
              "      <td>-78.17</td>\n",
              "      <td>44.0</td>\n",
              "      <td>2004-01</td>\n",
              "      <td>-10.12</td>\n",
              "      <td>746524.8</td>\n",
              "      <td>78.0</td>\n",
              "      <td>Croplands</td>\n",
              "    </tr>\n",
              "    <tr>\n",
              "      <th>33</th>\n",
              "      <td>-78.17</td>\n",
              "      <td>44.0</td>\n",
              "      <td>2005-01</td>\n",
              "      <td>-7.23</td>\n",
              "      <td>245456.0</td>\n",
              "      <td>78.0</td>\n",
              "      <td>Croplands</td>\n",
              "    </tr>\n",
              "    <tr>\n",
              "      <th>34</th>\n",
              "      <td>-76.42</td>\n",
              "      <td>38.3</td>\n",
              "      <td>2001-01</td>\n",
              "      <td>1.57</td>\n",
              "      <td>212869.6</td>\n",
              "      <td>11.9</td>\n",
              "      <td>Deciduous Broadleaf Forest</td>\n",
              "    </tr>\n",
              "    <tr>\n",
              "      <th>35</th>\n",
              "      <td>-76.42</td>\n",
              "      <td>38.3</td>\n",
              "      <td>2003-01</td>\n",
              "      <td>-0.46</td>\n",
              "      <td>266192.8</td>\n",
              "      <td>11.9</td>\n",
              "      <td>Woody Savannas</td>\n",
              "    </tr>\n",
              "    <tr>\n",
              "      <th>36</th>\n",
              "      <td>-76.42</td>\n",
              "      <td>38.3</td>\n",
              "      <td>2007-01</td>\n",
              "      <td>4.63</td>\n",
              "      <td>282274.4</td>\n",
              "      <td>11.9</td>\n",
              "      <td>Deciduous Broadleaf Forest</td>\n",
              "    </tr>\n",
              "    <tr>\n",
              "      <th>37</th>\n",
              "      <td>-75.72</td>\n",
              "      <td>45.4</td>\n",
              "      <td>2003-01</td>\n",
              "      <td>-12.90</td>\n",
              "      <td>204405.6</td>\n",
              "      <td>79.0</td>\n",
              "      <td>Savannas</td>\n",
              "    </tr>\n",
              "    <tr>\n",
              "      <th>38</th>\n",
              "      <td>-75.72</td>\n",
              "      <td>45.4</td>\n",
              "      <td>2006-01</td>\n",
              "      <td>-5.17</td>\n",
              "      <td>1802832.0</td>\n",
              "      <td>79.0</td>\n",
              "      <td>Urban and Built-up</td>\n",
              "    </tr>\n",
              "    <tr>\n",
              "      <th>39</th>\n",
              "      <td>-75.72</td>\n",
              "      <td>45.4</td>\n",
              "      <td>2007-01</td>\n",
              "      <td>-7.50</td>\n",
              "      <td>515034.4</td>\n",
              "      <td>79.0</td>\n",
              "      <td>Urban and Built-up</td>\n",
              "    </tr>\n",
              "    <tr>\n",
              "      <th>40</th>\n",
              "      <td>-75.12</td>\n",
              "      <td>38.3</td>\n",
              "      <td>2004-01</td>\n",
              "      <td>-0.10</td>\n",
              "      <td>335597.6</td>\n",
              "      <td>1.8</td>\n",
              "      <td>Savannas</td>\n",
              "    </tr>\n",
              "    <tr>\n",
              "      <th>41</th>\n",
              "      <td>-75.12</td>\n",
              "      <td>38.3</td>\n",
              "      <td>2005-01</td>\n",
              "      <td>2.39</td>\n",
              "      <td>476100.0</td>\n",
              "      <td>1.8</td>\n",
              "      <td>Woody Savannas</td>\n",
              "    </tr>\n",
              "    <tr>\n",
              "      <th>42</th>\n",
              "      <td>-75.12</td>\n",
              "      <td>38.3</td>\n",
              "      <td>2008-01</td>\n",
              "      <td>3.13</td>\n",
              "      <td>168433.6</td>\n",
              "      <td>1.8</td>\n",
              "      <td>Savannas</td>\n",
              "    </tr>\n",
              "    <tr>\n",
              "      <th>43</th>\n",
              "      <td>-75.12</td>\n",
              "      <td>38.3</td>\n",
              "      <td>2010-01</td>\n",
              "      <td>1.25</td>\n",
              "      <td>1117248.0</td>\n",
              "      <td>1.8</td>\n",
              "      <td>Savannas</td>\n",
              "    </tr>\n",
              "    <tr>\n",
              "      <th>44</th>\n",
              "      <td>-74.62</td>\n",
              "      <td>46.0</td>\n",
              "      <td>2005-01</td>\n",
              "      <td>-13.09</td>\n",
              "      <td>177744.0</td>\n",
              "      <td>191.0</td>\n",
              "      <td>Woody Savannas</td>\n",
              "    </tr>\n",
              "    <tr>\n",
              "      <th>45</th>\n",
              "      <td>-70.22</td>\n",
              "      <td>44.1</td>\n",
              "      <td>2010-01</td>\n",
              "      <td>-4.85</td>\n",
              "      <td>714361.6</td>\n",
              "      <td>54.9</td>\n",
              "      <td>Deciduous Broadleaf Forest</td>\n",
              "    </tr>\n",
              "    <tr>\n",
              "      <th>46</th>\n",
              "      <td>-68.52</td>\n",
              "      <td>48.4</td>\n",
              "      <td>2002-01</td>\n",
              "      <td>-9.15</td>\n",
              "      <td>191709.6</td>\n",
              "      <td>36.0</td>\n",
              "      <td>Water</td>\n",
              "    </tr>\n",
              "    <tr>\n",
              "      <th>47</th>\n",
              "      <td>-68.52</td>\n",
              "      <td>48.4</td>\n",
              "      <td>2009-01</td>\n",
              "      <td>-14.05</td>\n",
              "      <td>423200.0</td>\n",
              "      <td>36.0</td>\n",
              "      <td>Water</td>\n",
              "    </tr>\n",
              "    <tr>\n",
              "      <th>48</th>\n",
              "      <td>-68.52</td>\n",
              "      <td>48.4</td>\n",
              "      <td>2010-01</td>\n",
              "      <td>-5.68</td>\n",
              "      <td>165048.0</td>\n",
              "      <td>36.0</td>\n",
              "      <td>Water</td>\n",
              "    </tr>\n",
              "  </tbody>\n",
              "</table>\n",
              "</div>\n",
              "    <div class=\"colab-df-buttons\">\n",
              "\n",
              "  <div class=\"colab-df-container\">\n",
              "    <button class=\"colab-df-convert\" onclick=\"convertToInteractive('df-d9b614bc-dc5a-4a3e-941c-d95ce805b012')\"\n",
              "            title=\"Convert this dataframe to an interactive table.\"\n",
              "            style=\"display:none;\">\n",
              "\n",
              "  <svg xmlns=\"http://www.w3.org/2000/svg\" height=\"24px\" viewBox=\"0 -960 960 960\">\n",
              "    <path d=\"M120-120v-720h720v720H120Zm60-500h600v-160H180v160Zm220 220h160v-160H400v160Zm0 220h160v-160H400v160ZM180-400h160v-160H180v160Zm440 0h160v-160H620v160ZM180-180h160v-160H180v160Zm440 0h160v-160H620v160Z\"/>\n",
              "  </svg>\n",
              "    </button>\n",
              "\n",
              "  <style>\n",
              "    .colab-df-container {\n",
              "      display:flex;\n",
              "      gap: 12px;\n",
              "    }\n",
              "\n",
              "    .colab-df-convert {\n",
              "      background-color: #E8F0FE;\n",
              "      border: none;\n",
              "      border-radius: 50%;\n",
              "      cursor: pointer;\n",
              "      display: none;\n",
              "      fill: #1967D2;\n",
              "      height: 32px;\n",
              "      padding: 0 0 0 0;\n",
              "      width: 32px;\n",
              "    }\n",
              "\n",
              "    .colab-df-convert:hover {\n",
              "      background-color: #E2EBFA;\n",
              "      box-shadow: 0px 1px 2px rgba(60, 64, 67, 0.3), 0px 1px 3px 1px rgba(60, 64, 67, 0.15);\n",
              "      fill: #174EA6;\n",
              "    }\n",
              "\n",
              "    .colab-df-buttons div {\n",
              "      margin-bottom: 4px;\n",
              "    }\n",
              "\n",
              "    [theme=dark] .colab-df-convert {\n",
              "      background-color: #3B4455;\n",
              "      fill: #D2E3FC;\n",
              "    }\n",
              "\n",
              "    [theme=dark] .colab-df-convert:hover {\n",
              "      background-color: #434B5C;\n",
              "      box-shadow: 0px 1px 3px 1px rgba(0, 0, 0, 0.15);\n",
              "      filter: drop-shadow(0px 1px 2px rgba(0, 0, 0, 0.3));\n",
              "      fill: #FFFFFF;\n",
              "    }\n",
              "  </style>\n",
              "\n",
              "    <script>\n",
              "      const buttonEl =\n",
              "        document.querySelector('#df-d9b614bc-dc5a-4a3e-941c-d95ce805b012 button.colab-df-convert');\n",
              "      buttonEl.style.display =\n",
              "        google.colab.kernel.accessAllowed ? 'block' : 'none';\n",
              "\n",
              "      async function convertToInteractive(key) {\n",
              "        const element = document.querySelector('#df-d9b614bc-dc5a-4a3e-941c-d95ce805b012');\n",
              "        const dataTable =\n",
              "          await google.colab.kernel.invokeFunction('convertToInteractive',\n",
              "                                                    [key], {});\n",
              "        if (!dataTable) return;\n",
              "\n",
              "        const docLinkHtml = 'Like what you see? Visit the ' +\n",
              "          '<a target=\"_blank\" href=https://colab.research.google.com/notebooks/data_table.ipynb>data table notebook</a>'\n",
              "          + ' to learn more about interactive tables.';\n",
              "        element.innerHTML = '';\n",
              "        dataTable['output_type'] = 'display_data';\n",
              "        await google.colab.output.renderOutput(dataTable, element);\n",
              "        const docLink = document.createElement('div');\n",
              "        docLink.innerHTML = docLinkHtml;\n",
              "        element.appendChild(docLink);\n",
              "      }\n",
              "    </script>\n",
              "  </div>\n",
              "\n",
              "\n",
              "<div id=\"df-38bae923-3a1f-4abe-9761-e79e2b3486bd\">\n",
              "  <button class=\"colab-df-quickchart\" onclick=\"quickchart('df-38bae923-3a1f-4abe-9761-e79e2b3486bd')\"\n",
              "            title=\"Suggest charts\"\n",
              "            style=\"display:none;\">\n",
              "\n",
              "<svg xmlns=\"http://www.w3.org/2000/svg\" height=\"24px\"viewBox=\"0 0 24 24\"\n",
              "     width=\"24px\">\n",
              "    <g>\n",
              "        <path d=\"M19 3H5c-1.1 0-2 .9-2 2v14c0 1.1.9 2 2 2h14c1.1 0 2-.9 2-2V5c0-1.1-.9-2-2-2zM9 17H7v-7h2v7zm4 0h-2V7h2v10zm4 0h-2v-4h2v4z\"/>\n",
              "    </g>\n",
              "</svg>\n",
              "  </button>\n",
              "\n",
              "<style>\n",
              "  .colab-df-quickchart {\n",
              "      --bg-color: #E8F0FE;\n",
              "      --fill-color: #1967D2;\n",
              "      --hover-bg-color: #E2EBFA;\n",
              "      --hover-fill-color: #174EA6;\n",
              "      --disabled-fill-color: #AAA;\n",
              "      --disabled-bg-color: #DDD;\n",
              "  }\n",
              "\n",
              "  [theme=dark] .colab-df-quickchart {\n",
              "      --bg-color: #3B4455;\n",
              "      --fill-color: #D2E3FC;\n",
              "      --hover-bg-color: #434B5C;\n",
              "      --hover-fill-color: #FFFFFF;\n",
              "      --disabled-bg-color: #3B4455;\n",
              "      --disabled-fill-color: #666;\n",
              "  }\n",
              "\n",
              "  .colab-df-quickchart {\n",
              "    background-color: var(--bg-color);\n",
              "    border: none;\n",
              "    border-radius: 50%;\n",
              "    cursor: pointer;\n",
              "    display: none;\n",
              "    fill: var(--fill-color);\n",
              "    height: 32px;\n",
              "    padding: 0;\n",
              "    width: 32px;\n",
              "  }\n",
              "\n",
              "  .colab-df-quickchart:hover {\n",
              "    background-color: var(--hover-bg-color);\n",
              "    box-shadow: 0 1px 2px rgba(60, 64, 67, 0.3), 0 1px 3px 1px rgba(60, 64, 67, 0.15);\n",
              "    fill: var(--button-hover-fill-color);\n",
              "  }\n",
              "\n",
              "  .colab-df-quickchart-complete:disabled,\n",
              "  .colab-df-quickchart-complete:disabled:hover {\n",
              "    background-color: var(--disabled-bg-color);\n",
              "    fill: var(--disabled-fill-color);\n",
              "    box-shadow: none;\n",
              "  }\n",
              "\n",
              "  .colab-df-spinner {\n",
              "    border: 2px solid var(--fill-color);\n",
              "    border-color: transparent;\n",
              "    border-bottom-color: var(--fill-color);\n",
              "    animation:\n",
              "      spin 1s steps(1) infinite;\n",
              "  }\n",
              "\n",
              "  @keyframes spin {\n",
              "    0% {\n",
              "      border-color: transparent;\n",
              "      border-bottom-color: var(--fill-color);\n",
              "      border-left-color: var(--fill-color);\n",
              "    }\n",
              "    20% {\n",
              "      border-color: transparent;\n",
              "      border-left-color: var(--fill-color);\n",
              "      border-top-color: var(--fill-color);\n",
              "    }\n",
              "    30% {\n",
              "      border-color: transparent;\n",
              "      border-left-color: var(--fill-color);\n",
              "      border-top-color: var(--fill-color);\n",
              "      border-right-color: var(--fill-color);\n",
              "    }\n",
              "    40% {\n",
              "      border-color: transparent;\n",
              "      border-right-color: var(--fill-color);\n",
              "      border-top-color: var(--fill-color);\n",
              "    }\n",
              "    60% {\n",
              "      border-color: transparent;\n",
              "      border-right-color: var(--fill-color);\n",
              "    }\n",
              "    80% {\n",
              "      border-color: transparent;\n",
              "      border-right-color: var(--fill-color);\n",
              "      border-bottom-color: var(--fill-color);\n",
              "    }\n",
              "    90% {\n",
              "      border-color: transparent;\n",
              "      border-bottom-color: var(--fill-color);\n",
              "    }\n",
              "  }\n",
              "</style>\n",
              "\n",
              "  <script>\n",
              "    async function quickchart(key) {\n",
              "      const quickchartButtonEl =\n",
              "        document.querySelector('#' + key + ' button');\n",
              "      quickchartButtonEl.disabled = true;  // To prevent multiple clicks.\n",
              "      quickchartButtonEl.classList.add('colab-df-spinner');\n",
              "      try {\n",
              "        const charts = await google.colab.kernel.invokeFunction(\n",
              "            'suggestCharts', [key], {});\n",
              "      } catch (error) {\n",
              "        console.error('Error during call to suggestCharts:', error);\n",
              "      }\n",
              "      quickchartButtonEl.classList.remove('colab-df-spinner');\n",
              "      quickchartButtonEl.classList.add('colab-df-quickchart-complete');\n",
              "    }\n",
              "    (() => {\n",
              "      let quickchartButtonEl =\n",
              "        document.querySelector('#df-38bae923-3a1f-4abe-9761-e79e2b3486bd button');\n",
              "      quickchartButtonEl.style.display =\n",
              "        google.colab.kernel.accessAllowed ? 'block' : 'none';\n",
              "    })();\n",
              "  </script>\n",
              "</div>\n",
              "\n",
              "    </div>\n",
              "  </div>\n"
            ],
            "application/vnd.google.colaboratory.intrinsic+json": {
              "type": "dataframe",
              "variable_name": "df_monthly",
              "summary": "{\n  \"name\": \"df_monthly\",\n  \"rows\": 49,\n  \"fields\": [\n    {\n      \"column\": \"Longitude\",\n      \"properties\": {\n        \"dtype\": \"number\",\n        \"std\": 18.88749884182657,\n        \"min\": -128.62,\n        \"max\": -68.52,\n        \"num_unique_values\": 17,\n        \"samples\": [\n          -128.62,\n          -123.51,\n          -106.8\n        ],\n        \"semantic_type\": \"\",\n        \"description\": \"\"\n      }\n    },\n    {\n      \"column\": \"Latitude\",\n      \"properties\": {\n        \"dtype\": \"number\",\n        \"std\": 3.8704422394930145,\n        \"min\": 37.5,\n        \"max\": 54.5,\n        \"num_unique_values\": 16,\n        \"samples\": [\n          54.5,\n          48.1,\n          37.5\n        ],\n        \"semantic_type\": \"\",\n        \"description\": \"\"\n      }\n    },\n    {\n      \"column\": \"Date\",\n      \"properties\": {\n        \"dtype\": \"period[M]\",\n        \"num_unique_values\": 10,\n        \"samples\": [\n          \"2002-01\",\n          \"2009-01\",\n          \"2008-01\"\n        ],\n        \"semantic_type\": \"\",\n        \"description\": \"\"\n      }\n    },\n    {\n      \"column\": \"Temp_celsius\",\n      \"properties\": {\n        \"dtype\": \"number\",\n        \"std\": 5.8107121125643495,\n        \"min\": -14.05,\n        \"max\": 9.72,\n        \"num_unique_values\": 49,\n        \"samples\": [\n          3.65,\n          -4.85,\n          -14.05\n        ],\n        \"semantic_type\": \"\",\n        \"description\": \"\"\n      }\n    },\n    {\n      \"column\": \"Precip_mm\",\n      \"properties\": {\n        \"dtype\": \"number\",\n        \"std\": 1189098.7881912745,\n        \"min\": 5501.6,\n        \"max\": 6509239.2,\n        \"num_unique_values\": 49,\n        \"samples\": [\n          5501.6,\n          714361.6000000001,\n          423200.0\n        ],\n        \"semantic_type\": \"\",\n        \"description\": \"\"\n      }\n    },\n    {\n      \"column\": \"Elevation\",\n      \"properties\": {\n        \"dtype\": \"number\",\n        \"std\": 806.5414198215458,\n        \"min\": 1.8,\n        \"max\": 3352.8,\n        \"num_unique_values\": 19,\n        \"samples\": [\n          58.0,\n          3352.8,\n          188.0\n        ],\n        \"semantic_type\": \"\",\n        \"description\": \"\"\n      }\n    },\n    {\n      \"column\": \"Land_Cover_Description\",\n      \"properties\": {\n        \"dtype\": \"category\",\n        \"num_unique_values\": 7,\n        \"samples\": [\n          \"Savannas\",\n          \"Water\",\n          \"Croplands\"\n        ],\n        \"semantic_type\": \"\",\n        \"description\": \"\"\n      }\n    }\n  ]\n}"
            }
          },
          "metadata": {},
          "execution_count": 32
        }
      ]
    },
    {
      "cell_type": "code",
      "source": [
        "output_file = \"/content/drive/MyDrive/Colab Notebooks/Capstone Project/harmonized_dataset_ProjectMilestone01.csv\"\n",
        "df_monthly.to_csv(output_file, index=False)\n",
        "print(f\"Harmonized dataset saved to: {output_file}\")"
      ],
      "metadata": {
        "colab": {
          "base_uri": "https://localhost:8080/"
        },
        "id": "il66nOmal9th",
        "outputId": "0aae9561-e34d-4456-a28c-189f10a30dbf"
      },
      "execution_count": 33,
      "outputs": [
        {
          "output_type": "stream",
          "name": "stdout",
          "text": [
            "Harmonized dataset saved to: /content/drive/MyDrive/Colab Notebooks/Capstone Project/harmonized_dataset_ProjectMilestone01.csv\n"
          ]
        }
      ]
    },
    {
      "cell_type": "code",
      "source": [
        "print(df_merged.shape)"
      ],
      "metadata": {
        "colab": {
          "base_uri": "https://localhost:8080/"
        },
        "id": "gHjIDTee8aEg",
        "outputId": "a4a3676b-4289-4076-b056-98a7d29d5958"
      },
      "execution_count": 34,
      "outputs": [
        {
          "output_type": "stream",
          "name": "stdout",
          "text": [
            "(698280, 20)\n"
          ]
        }
      ]
    },
    {
      "cell_type": "code",
      "source": [
        "print(f\"Total records in merged dataset: {df_merged.shape[0]}\")"
      ],
      "metadata": {
        "colab": {
          "base_uri": "https://localhost:8080/"
        },
        "id": "J5cz8Nd9_3O_",
        "outputId": "13de24bf-007a-451f-d0ad-fe3b23000b86"
      },
      "execution_count": 35,
      "outputs": [
        {
          "output_type": "stream",
          "name": "stdout",
          "text": [
            "Total records in merged dataset: 698280\n"
          ]
        }
      ]
    },
    {
      "cell_type": "code",
      "source": [
        "print(f\"Bird dataset records: {df_bird.shape[0]}\")\n",
        "print(f\"Climate dataset records: {df_climate.shape[0]}\")\n",
        "print(f\"Land dataset records: {df_land.shape[0]}\")"
      ],
      "metadata": {
        "colab": {
          "base_uri": "https://localhost:8080/"
        },
        "id": "nyUpJ4XJ_6ql",
        "outputId": "f2328b3a-6331-4f4a-fe66-9796072ef9ee"
      },
      "execution_count": 36,
      "outputs": [
        {
          "output_type": "stream",
          "name": "stdout",
          "text": [
            "Bird dataset records: 68105346\n",
            "Climate dataset records: 12309899\n",
            "Land dataset records: 74985543\n"
          ]
        }
      ]
    }
  ]
}
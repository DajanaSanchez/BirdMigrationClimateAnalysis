{
  "nbformat": 4,
  "nbformat_minor": 0,
  "metadata": {
    "colab": {
      "provenance": [],
      "gpuType": "V28"
    },
    "kernelspec": {
      "name": "python3",
      "display_name": "Python 3"
    },
    "language_info": {
      "name": "python"
    },
    "accelerator": "TPU"
  },
  "cells": [
    {
      "cell_type": "code",
      "execution_count": 4,
      "metadata": {
        "colab": {
          "base_uri": "https://localhost:8080/"
        },
        "id": "wSNpEjOZZDXE",
        "outputId": "cb8b2d65-bf41-4c47-8320-c80632ba8c6b"
      },
      "outputs": [
        {
          "output_type": "stream",
          "name": "stdout",
          "text": [
            "Drive already mounted at /content/drive; to attempt to forcibly remount, call drive.mount(\"/content/drive\", force_remount=True).\n"
          ]
        }
      ],
      "source": [
        "from google.colab import drive\n",
        "drive.mount('/content/drive')"
      ]
    },
    {
      "cell_type": "code",
      "source": [
        "bird_path = '/content/drive/MyDrive/Colab Notebooks/Capstone Project/sabina.parquet'\n",
        "climate_path = '/content/drive/MyDrive/Colab Notebooks/Capstone Project/climate_merged_final.csv'\n",
        "land_path = '/content/drive/MyDrive/Colab Notebooks/Capstone Project/last_version_of_merged_data.csv'"
      ],
      "metadata": {
        "id": "aywZx8PGZNYb"
      },
      "execution_count": 5,
      "outputs": []
    },
    {
      "cell_type": "code",
      "source": [
        "import pandas as pd\n",
        "\n",
        "# Load files\n",
        "df_bird = pd.read_parquet(bird_path)\n",
        "df_climate = pd.read_csv(climate_path)\n",
        "df_land = pd.read_csv(land_path)\n",
        "\n",
        "# Preview data\n",
        "print(df_bird.head())\n",
        "print(df_climate.head())\n",
        "print(df_land.head())"
      ],
      "metadata": {
        "colab": {
          "base_uri": "https://localhost:8080/"
        },
        "id": "rQBac2cwZQST",
        "outputId": "0a564546-48d3-470e-8712-6b069173aca5"
      },
      "execution_count": 6,
      "outputs": [
        {
          "output_type": "stream",
          "name": "stderr",
          "text": [
            "<ipython-input-6-58bc316f93fc>:5: DtypeWarning: Columns (5) have mixed types. Specify dtype option on import or set low_memory=False.\n",
            "  df_climate = pd.read_csv(climate_path)\n"
          ]
        },
        {
          "output_type": "stream",
          "name": "stdout",
          "text": [
            "    LATITUDE   LONGITUDE OBSERVATION DATE\n",
            "0  32.045333 -115.908508          1995-11\n",
            "1  30.409449 -115.945759          1998-03\n",
            "2  30.409449 -115.945759          1998-03\n",
            "3  30.409449 -115.945759          1998-03\n",
            "4  30.409449 -115.945759          1998-03\n",
            "    Station_ID     Date  Latitude  Longitude  Elevation State   StationName  \\\n",
            "0  CA001011500  1961-01   48.9333    -123.75       75.0   NaN  BC CHEMAINUS   \n",
            "1  CA001011500  1962-01   48.9333    -123.75       75.0   NaN  BC CHEMAINUS   \n",
            "2  CA001011500  1963-01   48.9333    -123.75       75.0   NaN  BC CHEMAINUS   \n",
            "3  CA001011500  1964-01   48.9333    -123.75       75.0   NaN  BC CHEMAINUS   \n",
            "4  CA001011500  1965-01   48.9333    -123.75       75.0   NaN  BC CHEMAINUS   \n",
            "\n",
            "   Temp_celsius  Precip_mm TempFlags Precip_MeasurementFlag Precip_QCFlag  \\\n",
            "0          5.01      372.3         E                    NaN           NaN   \n",
            "1          3.53      107.4         E                    NaN           NaN   \n",
            "2          1.55       33.5         E                    NaN           NaN   \n",
            "3          4.56      302.5         E                    NaN           NaN   \n",
            "4          2.73      169.4         E                    NaN           NaN   \n",
            "\n",
            "  Precip_SourceFlag  Precip_SourceIndex  Precip_FirstYear  Precip_LastYear  \n",
            "0                 D             23584.0              1919             2024  \n",
            "1                 D             23584.0              1919             2024  \n",
            "2                 D             23584.0              1919             2024  \n",
            "3                 D             23584.0              1919             2024  \n",
            "4                 D             23584.0              1919             2024  \n",
            "   Year     Date  Latitude   Longitude  Region  Land_Cover_Type  \\\n",
            "0  2001  2001-01      83.0 -170.000000  Canada                0   \n",
            "1  2001  2001-01      83.0 -169.949958  Canada                0   \n",
            "2  2001  2001-01      83.0 -169.899917  Canada                0   \n",
            "3  2001  2001-01      83.0 -169.849875  Canada                0   \n",
            "4  2001  2001-01      83.0 -169.799833  Canada                0   \n",
            "\n",
            "  Land_Cover_Description  \n",
            "0                  Water  \n",
            "1                  Water  \n",
            "2                  Water  \n",
            "3                  Water  \n",
            "4                  Water  \n"
          ]
        }
      ]
    },
    {
      "cell_type": "code",
      "source": [
        "for i, df in enumerate([df_bird, df_climate, df_land], start=1):\n",
        "    print(f\"DataFrame {i} columns: {df.columns}\")"
      ],
      "metadata": {
        "colab": {
          "base_uri": "https://localhost:8080/"
        },
        "id": "Je58fhQSbNpq",
        "outputId": "0b75988e-3a27-41cf-90ed-e854be396b65"
      },
      "execution_count": 11,
      "outputs": [
        {
          "output_type": "stream",
          "name": "stdout",
          "text": [
            "DataFrame 1 columns: Index(['LATITUDE', 'LONGITUDE', 'OBSERVATION DATE'], dtype='object')\n",
            "DataFrame 2 columns: Index(['Station_ID', 'Date', 'Latitude', 'Longitude', 'Elevation', 'State',\n",
            "       'StationName', 'Temp_celsius', 'Precip_mm', 'TempFlags',\n",
            "       'Precip_MeasurementFlag', 'Precip_QCFlag', 'Precip_SourceFlag',\n",
            "       'Precip_SourceIndex', 'Precip_FirstYear', 'Precip_LastYear'],\n",
            "      dtype='object')\n",
            "DataFrame 3 columns: Index(['Year', 'Date', 'Latitude', 'Longitude', 'Region', 'Land_Cover_Type',\n",
            "       'Land_Cover_Description'],\n",
            "      dtype='object')\n"
          ]
        }
      ]
    },
    {
      "cell_type": "code",
      "source": [
        "for df in [df_bird, df_climate, df_land]:\n",
        "    possible_date_columns = ['Date', 'OBSERVATION DATE']\n",
        "    for col in possible_date_columns:\n",
        "        if col in df.columns:\n",
        "            df.rename(columns={col: 'Date'}, inplace=True)\n",
        "            break  # Stop renaming if a match is found"
      ],
      "metadata": {
        "id": "D_TENxT4bSch"
      },
      "execution_count": 12,
      "outputs": []
    },
    {
      "cell_type": "code",
      "source": [
        "print(df_bird.head())\n",
        "print(df_climate.head())\n",
        "print(df_land.head())"
      ],
      "metadata": {
        "colab": {
          "base_uri": "https://localhost:8080/"
        },
        "id": "6hV1sAQFbVwy",
        "outputId": "d5bbe3ef-8a35-4866-c3fc-c211e80dca17"
      },
      "execution_count": 13,
      "outputs": [
        {
          "output_type": "stream",
          "name": "stdout",
          "text": [
            "    LATITUDE   LONGITUDE     Date\n",
            "0  32.045333 -115.908508  1995-11\n",
            "1  30.409449 -115.945759  1998-03\n",
            "2  30.409449 -115.945759  1998-03\n",
            "3  30.409449 -115.945759  1998-03\n",
            "4  30.409449 -115.945759  1998-03\n",
            "    Station_ID     Date  Latitude  Longitude  Elevation State   StationName  \\\n",
            "0  CA001011500  1961-01   48.9333    -123.75       75.0   NaN  BC CHEMAINUS   \n",
            "1  CA001011500  1962-01   48.9333    -123.75       75.0   NaN  BC CHEMAINUS   \n",
            "2  CA001011500  1963-01   48.9333    -123.75       75.0   NaN  BC CHEMAINUS   \n",
            "3  CA001011500  1964-01   48.9333    -123.75       75.0   NaN  BC CHEMAINUS   \n",
            "4  CA001011500  1965-01   48.9333    -123.75       75.0   NaN  BC CHEMAINUS   \n",
            "\n",
            "   Temp_celsius  Precip_mm TempFlags Precip_MeasurementFlag Precip_QCFlag  \\\n",
            "0          5.01      372.3         E                    NaN           NaN   \n",
            "1          3.53      107.4         E                    NaN           NaN   \n",
            "2          1.55       33.5         E                    NaN           NaN   \n",
            "3          4.56      302.5         E                    NaN           NaN   \n",
            "4          2.73      169.4         E                    NaN           NaN   \n",
            "\n",
            "  Precip_SourceFlag  Precip_SourceIndex  Precip_FirstYear  Precip_LastYear  \n",
            "0                 D             23584.0              1919             2024  \n",
            "1                 D             23584.0              1919             2024  \n",
            "2                 D             23584.0              1919             2024  \n",
            "3                 D             23584.0              1919             2024  \n",
            "4                 D             23584.0              1919             2024  \n",
            "   Year     Date  Latitude   Longitude  Region  Land_Cover_Type  \\\n",
            "0  2001  2001-01      83.0 -170.000000  Canada                0   \n",
            "1  2001  2001-01      83.0 -169.949958  Canada                0   \n",
            "2  2001  2001-01      83.0 -169.899917  Canada                0   \n",
            "3  2001  2001-01      83.0 -169.849875  Canada                0   \n",
            "4  2001  2001-01      83.0 -169.799833  Canada                0   \n",
            "\n",
            "  Land_Cover_Description  \n",
            "0                  Water  \n",
            "1                  Water  \n",
            "2                  Water  \n",
            "3                  Water  \n",
            "4                  Water  \n"
          ]
        }
      ]
    },
    {
      "cell_type": "code",
      "source": [
        "for df in [df_bird, df_climate, df_land]:\n",
        "    df.rename(columns={'LATITUDE': 'Latitude', 'LONGITUDE': 'Longitude'}, inplace=True)"
      ],
      "metadata": {
        "id": "Q0TzoklPbZpR"
      },
      "execution_count": 14,
      "outputs": []
    },
    {
      "cell_type": "code",
      "source": [
        "for i, df in enumerate([df_bird, df_climate, df_land], start=1):\n",
        "    print(f\"Columns in dataframe {i}: {df.columns.tolist()}\")"
      ],
      "metadata": {
        "colab": {
          "base_uri": "https://localhost:8080/"
        },
        "id": "-xbuSspuboMa",
        "outputId": "38676d1d-09f3-4592-e3d8-ebe4d2bbd81e"
      },
      "execution_count": 15,
      "outputs": [
        {
          "output_type": "stream",
          "name": "stdout",
          "text": [
            "Columns in dataframe 1: ['Latitude', 'Longitude', 'Date']\n",
            "Columns in dataframe 2: ['Station_ID', 'Date', 'Latitude', 'Longitude', 'Elevation', 'State', 'StationName', 'Temp_celsius', 'Precip_mm', 'TempFlags', 'Precip_MeasurementFlag', 'Precip_QCFlag', 'Precip_SourceFlag', 'Precip_SourceIndex', 'Precip_FirstYear', 'Precip_LastYear']\n",
            "Columns in dataframe 3: ['Year', 'Date', 'Latitude', 'Longitude', 'Region', 'Land_Cover_Type', 'Land_Cover_Description']\n"
          ]
        }
      ]
    },
    {
      "cell_type": "code",
      "source": [
        "print(df_bird.head())\n",
        "print(df_climate.head())\n",
        "print(df_land.head())"
      ],
      "metadata": {
        "colab": {
          "base_uri": "https://localhost:8080/"
        },
        "id": "1TrJjMuQb3bk",
        "outputId": "357217f9-4df4-4729-9397-8b9b9683cb51"
      },
      "execution_count": 16,
      "outputs": [
        {
          "output_type": "stream",
          "name": "stdout",
          "text": [
            "    Latitude   Longitude     Date\n",
            "0  32.045333 -115.908508  1995-11\n",
            "1  30.409449 -115.945759  1998-03\n",
            "2  30.409449 -115.945759  1998-03\n",
            "3  30.409449 -115.945759  1998-03\n",
            "4  30.409449 -115.945759  1998-03\n",
            "    Station_ID     Date  Latitude  Longitude  Elevation State   StationName  \\\n",
            "0  CA001011500  1961-01   48.9333    -123.75       75.0   NaN  BC CHEMAINUS   \n",
            "1  CA001011500  1962-01   48.9333    -123.75       75.0   NaN  BC CHEMAINUS   \n",
            "2  CA001011500  1963-01   48.9333    -123.75       75.0   NaN  BC CHEMAINUS   \n",
            "3  CA001011500  1964-01   48.9333    -123.75       75.0   NaN  BC CHEMAINUS   \n",
            "4  CA001011500  1965-01   48.9333    -123.75       75.0   NaN  BC CHEMAINUS   \n",
            "\n",
            "   Temp_celsius  Precip_mm TempFlags Precip_MeasurementFlag Precip_QCFlag  \\\n",
            "0          5.01      372.3         E                    NaN           NaN   \n",
            "1          3.53      107.4         E                    NaN           NaN   \n",
            "2          1.55       33.5         E                    NaN           NaN   \n",
            "3          4.56      302.5         E                    NaN           NaN   \n",
            "4          2.73      169.4         E                    NaN           NaN   \n",
            "\n",
            "  Precip_SourceFlag  Precip_SourceIndex  Precip_FirstYear  Precip_LastYear  \n",
            "0                 D             23584.0              1919             2024  \n",
            "1                 D             23584.0              1919             2024  \n",
            "2                 D             23584.0              1919             2024  \n",
            "3                 D             23584.0              1919             2024  \n",
            "4                 D             23584.0              1919             2024  \n",
            "   Year     Date  Latitude   Longitude  Region  Land_Cover_Type  \\\n",
            "0  2001  2001-01      83.0 -170.000000  Canada                0   \n",
            "1  2001  2001-01      83.0 -169.949958  Canada                0   \n",
            "2  2001  2001-01      83.0 -169.899917  Canada                0   \n",
            "3  2001  2001-01      83.0 -169.849875  Canada                0   \n",
            "4  2001  2001-01      83.0 -169.799833  Canada                0   \n",
            "\n",
            "  Land_Cover_Description  \n",
            "0                  Water  \n",
            "1                  Water  \n",
            "2                  Water  \n",
            "3                  Water  \n",
            "4                  Water  \n"
          ]
        }
      ]
    },
    {
      "cell_type": "code",
      "source": [
        "decimal_places = 1  # Change this if you need a different precision\n",
        "\n",
        "df_bird[['Latitude', 'Longitude']] = df_bird[['Latitude', 'Longitude']].round(decimal_places)\n",
        "df_climate[['Latitude', 'Longitude']] = df_climate[['Latitude', 'Longitude']].round(decimal_places)\n",
        "df_land[['Latitude', 'Longitude']] = df_land[['Latitude', 'Longitude']].round(decimal_places)"
      ],
      "metadata": {
        "id": "XNSRQp9acem6"
      },
      "execution_count": 21,
      "outputs": []
    },
    {
      "cell_type": "code",
      "source": [
        "print(df_bird.head())\n",
        "print(df_climate.head())\n",
        "print(df_land.head())"
      ],
      "metadata": {
        "colab": {
          "base_uri": "https://localhost:8080/"
        },
        "id": "Y4jxqVpVc5Ni",
        "outputId": "a0583e6c-cf90-49e5-d177-78f30ad2bfa9"
      },
      "execution_count": 22,
      "outputs": [
        {
          "output_type": "stream",
          "name": "stdout",
          "text": [
            "   Latitude  Longitude     Date\n",
            "0      32.0     -115.9  1995-11\n",
            "1      30.4     -116.0  1998-03\n",
            "2      30.4     -116.0  1998-03\n",
            "3      30.4     -116.0  1998-03\n",
            "4      30.4     -116.0  1998-03\n",
            "    Station_ID     Date  Latitude  Longitude  Elevation State   StationName  \\\n",
            "0  CA001011500  1961-01      48.9     -123.8       75.0   NaN  BC CHEMAINUS   \n",
            "1  CA001011500  1962-01      48.9     -123.8       75.0   NaN  BC CHEMAINUS   \n",
            "2  CA001011500  1963-01      48.9     -123.8       75.0   NaN  BC CHEMAINUS   \n",
            "3  CA001011500  1964-01      48.9     -123.8       75.0   NaN  BC CHEMAINUS   \n",
            "4  CA001011500  1965-01      48.9     -123.8       75.0   NaN  BC CHEMAINUS   \n",
            "\n",
            "   Temp_celsius  Precip_mm TempFlags Precip_MeasurementFlag Precip_QCFlag  \\\n",
            "0          5.01      372.3         E                    NaN           NaN   \n",
            "1          3.53      107.4         E                    NaN           NaN   \n",
            "2          1.55       33.5         E                    NaN           NaN   \n",
            "3          4.56      302.5         E                    NaN           NaN   \n",
            "4          2.73      169.4         E                    NaN           NaN   \n",
            "\n",
            "  Precip_SourceFlag  Precip_SourceIndex  Precip_FirstYear  Precip_LastYear  \n",
            "0                 D             23584.0              1919             2024  \n",
            "1                 D             23584.0              1919             2024  \n",
            "2                 D             23584.0              1919             2024  \n",
            "3                 D             23584.0              1919             2024  \n",
            "4                 D             23584.0              1919             2024  \n",
            "   Year     Date  Latitude  Longitude  Region  Land_Cover_Type  \\\n",
            "0  2001  2001-01      83.0     -170.0  Canada                0   \n",
            "1  2001  2001-01      83.0     -170.0  Canada                0   \n",
            "2  2001  2001-01      83.0     -169.9  Canada                0   \n",
            "3  2001  2001-01      83.0     -169.8  Canada                0   \n",
            "4  2001  2001-01      83.0     -169.8  Canada                0   \n",
            "\n",
            "  Land_Cover_Description  \n",
            "0                  Water  \n",
            "1                  Water  \n",
            "2                  Water  \n",
            "3                  Water  \n",
            "4                  Water  \n"
          ]
        }
      ]
    },
    {
      "cell_type": "code",
      "source": [
        "df_bird[['Latitude', 'Longitude']] = df_bird[['Latitude', 'Longitude']].astype('float64')\n",
        "df_climate[['Latitude', 'Longitude']] = df_climate[['Latitude', 'Longitude']].astype('float64')\n",
        "df_land[['Latitude', 'Longitude']] = df_land[['Latitude', 'Longitude']].astype('float64')"
      ],
      "metadata": {
        "id": "VgWJC-cFc_jR"
      },
      "execution_count": 23,
      "outputs": []
    },
    {
      "cell_type": "code",
      "source": [
        "print(df_bird[['Latitude', 'Longitude']].head())\n",
        "print(df_climate[['Latitude', 'Longitude']].head())\n",
        "print(df_land[['Latitude', 'Longitude']].head())"
      ],
      "metadata": {
        "colab": {
          "base_uri": "https://localhost:8080/"
        },
        "id": "cZZt8semdE1y",
        "outputId": "489063d3-b9ab-4470-c08f-4b9c4223412e"
      },
      "execution_count": 24,
      "outputs": [
        {
          "output_type": "stream",
          "name": "stdout",
          "text": [
            "   Latitude  Longitude\n",
            "0      32.0     -115.9\n",
            "1      30.4     -116.0\n",
            "2      30.4     -116.0\n",
            "3      30.4     -116.0\n",
            "4      30.4     -116.0\n",
            "   Latitude  Longitude\n",
            "0      48.9     -123.8\n",
            "1      48.9     -123.8\n",
            "2      48.9     -123.8\n",
            "3      48.9     -123.8\n",
            "4      48.9     -123.8\n",
            "   Latitude  Longitude\n",
            "0      83.0     -170.0\n",
            "1      83.0     -170.0\n",
            "2      83.0     -169.9\n",
            "3      83.0     -169.8\n",
            "4      83.0     -169.8\n"
          ]
        }
      ]
    },
    {
      "cell_type": "code",
      "source": [
        "print(df_bird[['Latitude', 'Longitude']].applymap(lambda x: len(str(x).split('.')[-1])))\n",
        "print(df_climate[['Latitude', 'Longitude']].applymap(lambda x: len(str(x).split('.')[-1])))\n",
        "print(df_land[['Latitude', 'Longitude']].applymap(lambda x: len(str(x).split('.')[-1])))"
      ],
      "metadata": {
        "colab": {
          "base_uri": "https://localhost:8080/"
        },
        "id": "awbAcSjhdL3q",
        "outputId": "b7a4d626-ad4c-4f8d-d218-93c99c43be26"
      },
      "execution_count": 25,
      "outputs": [
        {
          "output_type": "stream",
          "name": "stderr",
          "text": [
            "<ipython-input-25-b7779b7f5b12>:1: FutureWarning: DataFrame.applymap has been deprecated. Use DataFrame.map instead.\n",
            "  print(df_bird[['Latitude', 'Longitude']].applymap(lambda x: len(str(x).split('.')[-1])))\n"
          ]
        },
        {
          "output_type": "stream",
          "name": "stdout",
          "text": [
            "         Latitude  Longitude\n",
            "0               1          1\n",
            "1               1          1\n",
            "2               1          1\n",
            "3               1          1\n",
            "4               1          1\n",
            "...           ...        ...\n",
            "7498831         1          1\n",
            "7498832         1          1\n",
            "7498833         1          1\n",
            "7498834         1          1\n",
            "7498835         1          1\n",
            "\n",
            "[7498836 rows x 2 columns]\n"
          ]
        },
        {
          "output_type": "stream",
          "name": "stderr",
          "text": [
            "<ipython-input-25-b7779b7f5b12>:2: FutureWarning: DataFrame.applymap has been deprecated. Use DataFrame.map instead.\n",
            "  print(df_climate[['Latitude', 'Longitude']].applymap(lambda x: len(str(x).split('.')[-1])))\n"
          ]
        },
        {
          "output_type": "stream",
          "name": "stdout",
          "text": [
            "         Latitude  Longitude\n",
            "0               1          1\n",
            "1               1          1\n",
            "2               1          1\n",
            "3               1          1\n",
            "4               1          1\n",
            "...           ...        ...\n",
            "1484391         1          1\n",
            "1484392         1          1\n",
            "1484393         1          1\n",
            "1484394         1          1\n",
            "1484395         1          1\n",
            "\n",
            "[1484396 rows x 2 columns]\n"
          ]
        },
        {
          "output_type": "stream",
          "name": "stderr",
          "text": [
            "<ipython-input-25-b7779b7f5b12>:3: FutureWarning: DataFrame.applymap has been deprecated. Use DataFrame.map instead.\n",
            "  print(df_land[['Latitude', 'Longitude']].applymap(lambda x: len(str(x).split('.')[-1])))\n"
          ]
        },
        {
          "output_type": "stream",
          "name": "stdout",
          "text": [
            "          Latitude  Longitude\n",
            "0                1          1\n",
            "1                1          1\n",
            "2                1          1\n",
            "3                1          1\n",
            "4                1          1\n",
            "...            ...        ...\n",
            "74985538         1          1\n",
            "74985539         1          1\n",
            "74985540         1          1\n",
            "74985541         1          1\n",
            "74985542         1          1\n",
            "\n",
            "[74985543 rows x 2 columns]\n"
          ]
        }
      ]
    },
    {
      "cell_type": "code",
      "source": [
        "# Find mismatched coordinates using a left merge\n",
        "mismatched_coords = df_bird.merge(df_land[['Longitude', 'Latitude']],\n",
        "                                  on=['Longitude', 'Latitude'],\n",
        "                                  how='left',\n",
        "                                  indicator=True).query('_merge == \"left_only\"')\n",
        "\n",
        "print(\"Mismatched coordinates in Bird vs Land:\", mismatched_coords.shape[0])\n",
        "\n",
        "mismatched_coords_climate = df_climate.merge(df_land[['Longitude', 'Latitude']],\n",
        "                                             on=['Longitude', 'Latitude'],\n",
        "                                             how='left',\n",
        "                                             indicator=True).query('_merge == \"left_only\"')\n",
        "\n",
        "print(\"Mismatched coordinates in Climate vs Land:\", mismatched_coords_climate.shape[0])"
      ],
      "metadata": {
        "colab": {
          "base_uri": "https://localhost:8080/"
        },
        "id": "S1nQVtyteB1a",
        "outputId": "c999e2f3-ff6a-4cae-e921-eace3247f986"
      },
      "execution_count": 27,
      "outputs": [
        {
          "output_type": "stream",
          "name": "stdout",
          "text": [
            "Mismatched coordinates in Bird vs Land: 5860\n",
            "Mismatched coordinates in Climate vs Land: 673\n"
          ]
        }
      ]
    },
    {
      "cell_type": "code",
      "source": [
        "df_bird = df_bird.merge(df_land[['Longitude', 'Latitude']], on=['Longitude', 'Latitude'], how='inner')\n",
        "df_climate = df_climate.merge(df_land[['Longitude', 'Latitude']], on=['Longitude', 'Latitude'], how='inner')"
      ],
      "metadata": {
        "id": "3zTEXS2OgBn5"
      },
      "execution_count": 30,
      "outputs": []
    },
    {
      "cell_type": "code",
      "source": [
        "df_merged = df_bird.merge(df_climate, on=['Longitude', 'Latitude', 'Date'], how='inner') \\\n",
        "                   .merge(df_land, on=['Longitude', 'Latitude', 'Date'], how='inner')"
      ],
      "metadata": {
        "id": "SsgDgphyg0XB"
      },
      "execution_count": 31,
      "outputs": []
    },
    {
      "cell_type": "code",
      "source": [
        "print(df_merged.info())\n",
        "print(df_merged.head())"
      ],
      "metadata": {
        "colab": {
          "base_uri": "https://localhost:8080/"
        },
        "id": "DBJi42O4iNk5",
        "outputId": "a0b68f56-88e6-49dc-9fb5-95f3346820f3"
      },
      "execution_count": 32,
      "outputs": [
        {
          "output_type": "stream",
          "name": "stdout",
          "text": [
            "<class 'pandas.core.frame.DataFrame'>\n",
            "RangeIndex: 139185190 entries, 0 to 139185189\n",
            "Data columns (total 20 columns):\n",
            " #   Column                  Dtype  \n",
            "---  ------                  -----  \n",
            " 0   Latitude                float64\n",
            " 1   Longitude               float64\n",
            " 2   Date                    object \n",
            " 3   Station_ID              object \n",
            " 4   Elevation               float64\n",
            " 5   State                   object \n",
            " 6   StationName             object \n",
            " 7   Temp_celsius            float64\n",
            " 8   Precip_mm               float64\n",
            " 9   TempFlags               object \n",
            " 10  Precip_MeasurementFlag  object \n",
            " 11  Precip_QCFlag           object \n",
            " 12  Precip_SourceFlag       object \n",
            " 13  Precip_SourceIndex      float64\n",
            " 14  Precip_FirstYear        int64  \n",
            " 15  Precip_LastYear         int64  \n",
            " 16  Year                    int64  \n",
            " 17  Region                  object \n",
            " 18  Land_Cover_Type         int64  \n",
            " 19  Land_Cover_Description  object \n",
            "dtypes: float64(6), int64(4), object(10)\n",
            "memory usage: 20.7+ GB\n",
            "None\n",
            "   Latitude  Longitude     Date   Station_ID  Elevation State  \\\n",
            "0      49.7     -123.2  2001-01  CA001047671        4.0   NaN   \n",
            "1      49.7     -123.2  2001-01  CA001047671        4.0   NaN   \n",
            "2      49.7     -123.2  2001-01  CA001047671        4.0   NaN   \n",
            "3      49.7     -123.2  2001-01  CA001047671        4.0   NaN   \n",
            "4      49.7     -123.2  2001-01  CA001047671        4.0   NaN   \n",
            "\n",
            "               StationName  Temp_celsius  Precip_mm TempFlags  \\\n",
            "0  BC SQUAMISH STP CENTRAL          3.37      223.1         C   \n",
            "1  BC SQUAMISH STP CENTRAL          3.37      223.1         C   \n",
            "2  BC SQUAMISH STP CENTRAL          3.37      223.1         C   \n",
            "3  BC SQUAMISH STP CENTRAL          3.37      223.1         C   \n",
            "4  BC SQUAMISH STP CENTRAL          3.37      223.1         C   \n",
            "\n",
            "  Precip_MeasurementFlag Precip_QCFlag Precip_SourceFlag  Precip_SourceIndex  \\\n",
            "0                    NaN           NaN                 D             23935.0   \n",
            "1                    NaN           NaN                 D             23935.0   \n",
            "2                    NaN           NaN                 D             23935.0   \n",
            "3                    NaN           NaN                 D             23935.0   \n",
            "4                    NaN           NaN                 D             23935.0   \n",
            "\n",
            "   Precip_FirstYear  Precip_LastYear  Year  Region  Land_Cover_Type  \\\n",
            "0              1986             2005  2001  Canada                1   \n",
            "1              1986             2005  2001  Canada                1   \n",
            "2              1986             2005  2001  Canada                1   \n",
            "3              1986             2005  2001  Canada                1   \n",
            "4              1986             2005  2001  Canada                1   \n",
            "\n",
            "        Land_Cover_Description  \n",
            "0  Evergreen Needleleaf Forest  \n",
            "1  Evergreen Needleleaf Forest  \n",
            "2  Evergreen Needleleaf Forest  \n",
            "3  Evergreen Needleleaf Forest  \n",
            "4  Evergreen Needleleaf Forest  \n"
          ]
        }
      ]
    },
    {
      "cell_type": "code",
      "source": [
        "# Check if 'Land_Cover_Description' is in the merged dataset\n",
        "if 'Land_Cover_Description' not in df_merged.columns:\n",
        "    df_merged = df_merged.merge(df_land[['Longitude', 'Latitude', 'Date', 'Land_Cover_Description']],\n",
        "                                on=['Longitude', 'Latitude', 'Date'],\n",
        "                                how='left')  # Use 'left' to preserve existing data"
      ],
      "metadata": {
        "id": "aD9ptgsoizVJ"
      },
      "execution_count": 34,
      "outputs": []
    },
    {
      "cell_type": "code",
      "source": [
        "print(df_merged[['Longitude', 'Latitude', 'Date', 'Land_Cover_Description']].head())"
      ],
      "metadata": {
        "colab": {
          "base_uri": "https://localhost:8080/"
        },
        "id": "fg8oRzI6i8W5",
        "outputId": "7c5aa4f0-d77b-4ac5-9782-42a72d7489a3"
      },
      "execution_count": 35,
      "outputs": [
        {
          "output_type": "stream",
          "name": "stdout",
          "text": [
            "   Longitude  Latitude     Date       Land_Cover_Description\n",
            "0     -123.2      49.7  2001-01  Evergreen Needleleaf Forest\n",
            "1     -123.2      49.7  2001-01  Evergreen Needleleaf Forest\n",
            "2     -123.2      49.7  2001-01  Evergreen Needleleaf Forest\n",
            "3     -123.2      49.7  2001-01  Evergreen Needleleaf Forest\n",
            "4     -123.2      49.7  2001-01  Evergreen Needleleaf Forest\n"
          ]
        }
      ]
    },
    {
      "cell_type": "code",
      "source": [
        "print(df_merged.columns)"
      ],
      "metadata": {
        "colab": {
          "base_uri": "https://localhost:8080/"
        },
        "id": "RRqjTuT4jFbz",
        "outputId": "537a02ed-a683-4b7d-db42-1be6a356f882"
      },
      "execution_count": 36,
      "outputs": [
        {
          "output_type": "stream",
          "name": "stdout",
          "text": [
            "Index(['Latitude', 'Longitude', 'Date', 'Station_ID', 'Elevation', 'State',\n",
            "       'StationName', 'Temp_celsius', 'Precip_mm', 'TempFlags',\n",
            "       'Precip_MeasurementFlag', 'Precip_QCFlag', 'Precip_SourceFlag',\n",
            "       'Precip_SourceIndex', 'Precip_FirstYear', 'Precip_LastYear', 'Year',\n",
            "       'Region', 'Land_Cover_Type', 'Land_Cover_Description'],\n",
            "      dtype='object')\n"
          ]
        }
      ]
    },
    {
      "cell_type": "code",
      "source": [
        "# Ensure Date column is in YYYY-MM format\n",
        "df_merged['Date'] = pd.to_datetime(df_merged['Date']).dt.to_period('M')\n",
        "\n",
        "# Define aggregation rules\n",
        "aggregation_rules = {\n",
        "    'Temp_celsius': 'mean',    # Average temperature\n",
        "    'Precip_mm': 'sum',        # Total precipitation\n",
        "    'Elevation': 'mean',       # Elevation should remain the same\n",
        "    'Land_Cover_Description': 'first'  # Keep first occurrence (assuming it’s the same)\n",
        "}\n",
        "\n",
        "# Perform the monthly aggregation\n",
        "df_monthly = df_merged.groupby(['Longitude', 'Latitude', 'Date']).agg(aggregation_rules).reset_index()"
      ],
      "metadata": {
        "id": "V0gXuRz9jeJa"
      },
      "execution_count": 37,
      "outputs": []
    },
    {
      "cell_type": "code",
      "source": [
        "print(df_monthly.head(100000))"
      ],
      "metadata": {
        "colab": {
          "base_uri": "https://localhost:8080/"
        },
        "id": "c88925afjzzZ",
        "outputId": "9a505168-e5d4-4eb5-f62f-9ebb14cbbf95"
      },
      "execution_count": 40,
      "outputs": [
        {
          "output_type": "stream",
          "name": "stdout",
          "text": [
            "     Longitude  Latitude     Date  Temp_celsius   Precip_mm  Elevation  \\\n",
            "0       -150.0      61.2  2001-01        -2.530    931040.0       25.0   \n",
            "1       -149.9      61.2  2005-01        -9.200   1530291.2       38.4   \n",
            "2       -149.9      61.2  2007-01        -9.310    690662.4       38.4   \n",
            "3       -149.9      61.2  2008-01       -10.950    788844.8       38.4   \n",
            "4       -149.9      61.2  2009-01       -10.800   2214182.4       38.4   \n",
            "..         ...       ...      ...           ...         ...        ...   \n",
            "810      -63.1      46.3  2004-01       -10.930    214985.6       49.0   \n",
            "811      -60.8      46.1  2005-01        -6.910    541696.0       17.0   \n",
            "812      -60.0      45.9  2001-01        -4.850    379187.2       46.0   \n",
            "813      -60.0      46.2  2002-01        -5.210  39946694.4       62.0   \n",
            "814      -60.0      46.2  2006-01        -0.395  18773575.2       62.5   \n",
            "\n",
            "    Land_Cover_Description  \n",
            "0                    Water  \n",
            "1                    Water  \n",
            "2                    Water  \n",
            "3                    Water  \n",
            "4                    Water  \n",
            "..                     ...  \n",
            "810              Croplands  \n",
            "811          Mixed Forests  \n",
            "812          Mixed Forests  \n",
            "813                  Water  \n",
            "814                  Water  \n",
            "\n",
            "[815 rows x 7 columns]\n"
          ]
        }
      ]
    },
    {
      "cell_type": "code",
      "source": [
        "df_monthly.head(1000000)"
      ],
      "metadata": {
        "colab": {
          "base_uri": "https://localhost:8080/",
          "height": 423
        },
        "id": "6WDN7IIBkBhC",
        "outputId": "14da2c08-ccfc-44d8-b11e-f475917c792c"
      },
      "execution_count": 42,
      "outputs": [
        {
          "output_type": "execute_result",
          "data": {
            "text/plain": [
              "     Longitude  Latitude     Date  Temp_celsius   Precip_mm  Elevation  \\\n",
              "0       -150.0      61.2  2001-01        -2.530    931040.0       25.0   \n",
              "1       -149.9      61.2  2005-01        -9.200   1530291.2       38.4   \n",
              "2       -149.9      61.2  2007-01        -9.310    690662.4       38.4   \n",
              "3       -149.9      61.2  2008-01       -10.950    788844.8       38.4   \n",
              "4       -149.9      61.2  2009-01       -10.800   2214182.4       38.4   \n",
              "..         ...       ...      ...           ...         ...        ...   \n",
              "810      -63.1      46.3  2004-01       -10.930    214985.6       49.0   \n",
              "811      -60.8      46.1  2005-01        -6.910    541696.0       17.0   \n",
              "812      -60.0      45.9  2001-01        -4.850    379187.2       46.0   \n",
              "813      -60.0      46.2  2002-01        -5.210  39946694.4       62.0   \n",
              "814      -60.0      46.2  2006-01        -0.395  18773575.2       62.5   \n",
              "\n",
              "    Land_Cover_Description  \n",
              "0                    Water  \n",
              "1                    Water  \n",
              "2                    Water  \n",
              "3                    Water  \n",
              "4                    Water  \n",
              "..                     ...  \n",
              "810              Croplands  \n",
              "811          Mixed Forests  \n",
              "812          Mixed Forests  \n",
              "813                  Water  \n",
              "814                  Water  \n",
              "\n",
              "[815 rows x 7 columns]"
            ],
            "text/html": [
              "\n",
              "  <div id=\"df-73f3408f-8ec8-4740-a865-a89e770393f3\" class=\"colab-df-container\">\n",
              "    <div>\n",
              "<style scoped>\n",
              "    .dataframe tbody tr th:only-of-type {\n",
              "        vertical-align: middle;\n",
              "    }\n",
              "\n",
              "    .dataframe tbody tr th {\n",
              "        vertical-align: top;\n",
              "    }\n",
              "\n",
              "    .dataframe thead th {\n",
              "        text-align: right;\n",
              "    }\n",
              "</style>\n",
              "<table border=\"1\" class=\"dataframe\">\n",
              "  <thead>\n",
              "    <tr style=\"text-align: right;\">\n",
              "      <th></th>\n",
              "      <th>Longitude</th>\n",
              "      <th>Latitude</th>\n",
              "      <th>Date</th>\n",
              "      <th>Temp_celsius</th>\n",
              "      <th>Precip_mm</th>\n",
              "      <th>Elevation</th>\n",
              "      <th>Land_Cover_Description</th>\n",
              "    </tr>\n",
              "  </thead>\n",
              "  <tbody>\n",
              "    <tr>\n",
              "      <th>0</th>\n",
              "      <td>-150.0</td>\n",
              "      <td>61.2</td>\n",
              "      <td>2001-01</td>\n",
              "      <td>-2.530</td>\n",
              "      <td>931040.0</td>\n",
              "      <td>25.0</td>\n",
              "      <td>Water</td>\n",
              "    </tr>\n",
              "    <tr>\n",
              "      <th>1</th>\n",
              "      <td>-149.9</td>\n",
              "      <td>61.2</td>\n",
              "      <td>2005-01</td>\n",
              "      <td>-9.200</td>\n",
              "      <td>1530291.2</td>\n",
              "      <td>38.4</td>\n",
              "      <td>Water</td>\n",
              "    </tr>\n",
              "    <tr>\n",
              "      <th>2</th>\n",
              "      <td>-149.9</td>\n",
              "      <td>61.2</td>\n",
              "      <td>2007-01</td>\n",
              "      <td>-9.310</td>\n",
              "      <td>690662.4</td>\n",
              "      <td>38.4</td>\n",
              "      <td>Water</td>\n",
              "    </tr>\n",
              "    <tr>\n",
              "      <th>3</th>\n",
              "      <td>-149.9</td>\n",
              "      <td>61.2</td>\n",
              "      <td>2008-01</td>\n",
              "      <td>-10.950</td>\n",
              "      <td>788844.8</td>\n",
              "      <td>38.4</td>\n",
              "      <td>Water</td>\n",
              "    </tr>\n",
              "    <tr>\n",
              "      <th>4</th>\n",
              "      <td>-149.9</td>\n",
              "      <td>61.2</td>\n",
              "      <td>2009-01</td>\n",
              "      <td>-10.800</td>\n",
              "      <td>2214182.4</td>\n",
              "      <td>38.4</td>\n",
              "      <td>Water</td>\n",
              "    </tr>\n",
              "    <tr>\n",
              "      <th>...</th>\n",
              "      <td>...</td>\n",
              "      <td>...</td>\n",
              "      <td>...</td>\n",
              "      <td>...</td>\n",
              "      <td>...</td>\n",
              "      <td>...</td>\n",
              "      <td>...</td>\n",
              "    </tr>\n",
              "    <tr>\n",
              "      <th>810</th>\n",
              "      <td>-63.1</td>\n",
              "      <td>46.3</td>\n",
              "      <td>2004-01</td>\n",
              "      <td>-10.930</td>\n",
              "      <td>214985.6</td>\n",
              "      <td>49.0</td>\n",
              "      <td>Croplands</td>\n",
              "    </tr>\n",
              "    <tr>\n",
              "      <th>811</th>\n",
              "      <td>-60.8</td>\n",
              "      <td>46.1</td>\n",
              "      <td>2005-01</td>\n",
              "      <td>-6.910</td>\n",
              "      <td>541696.0</td>\n",
              "      <td>17.0</td>\n",
              "      <td>Mixed Forests</td>\n",
              "    </tr>\n",
              "    <tr>\n",
              "      <th>812</th>\n",
              "      <td>-60.0</td>\n",
              "      <td>45.9</td>\n",
              "      <td>2001-01</td>\n",
              "      <td>-4.850</td>\n",
              "      <td>379187.2</td>\n",
              "      <td>46.0</td>\n",
              "      <td>Mixed Forests</td>\n",
              "    </tr>\n",
              "    <tr>\n",
              "      <th>813</th>\n",
              "      <td>-60.0</td>\n",
              "      <td>46.2</td>\n",
              "      <td>2002-01</td>\n",
              "      <td>-5.210</td>\n",
              "      <td>39946694.4</td>\n",
              "      <td>62.0</td>\n",
              "      <td>Water</td>\n",
              "    </tr>\n",
              "    <tr>\n",
              "      <th>814</th>\n",
              "      <td>-60.0</td>\n",
              "      <td>46.2</td>\n",
              "      <td>2006-01</td>\n",
              "      <td>-0.395</td>\n",
              "      <td>18773575.2</td>\n",
              "      <td>62.5</td>\n",
              "      <td>Water</td>\n",
              "    </tr>\n",
              "  </tbody>\n",
              "</table>\n",
              "<p>815 rows × 7 columns</p>\n",
              "</div>\n",
              "    <div class=\"colab-df-buttons\">\n",
              "\n",
              "  <div class=\"colab-df-container\">\n",
              "    <button class=\"colab-df-convert\" onclick=\"convertToInteractive('df-73f3408f-8ec8-4740-a865-a89e770393f3')\"\n",
              "            title=\"Convert this dataframe to an interactive table.\"\n",
              "            style=\"display:none;\">\n",
              "\n",
              "  <svg xmlns=\"http://www.w3.org/2000/svg\" height=\"24px\" viewBox=\"0 -960 960 960\">\n",
              "    <path d=\"M120-120v-720h720v720H120Zm60-500h600v-160H180v160Zm220 220h160v-160H400v160Zm0 220h160v-160H400v160ZM180-400h160v-160H180v160Zm440 0h160v-160H620v160ZM180-180h160v-160H180v160Zm440 0h160v-160H620v160Z\"/>\n",
              "  </svg>\n",
              "    </button>\n",
              "\n",
              "  <style>\n",
              "    .colab-df-container {\n",
              "      display:flex;\n",
              "      gap: 12px;\n",
              "    }\n",
              "\n",
              "    .colab-df-convert {\n",
              "      background-color: #E8F0FE;\n",
              "      border: none;\n",
              "      border-radius: 50%;\n",
              "      cursor: pointer;\n",
              "      display: none;\n",
              "      fill: #1967D2;\n",
              "      height: 32px;\n",
              "      padding: 0 0 0 0;\n",
              "      width: 32px;\n",
              "    }\n",
              "\n",
              "    .colab-df-convert:hover {\n",
              "      background-color: #E2EBFA;\n",
              "      box-shadow: 0px 1px 2px rgba(60, 64, 67, 0.3), 0px 1px 3px 1px rgba(60, 64, 67, 0.15);\n",
              "      fill: #174EA6;\n",
              "    }\n",
              "\n",
              "    .colab-df-buttons div {\n",
              "      margin-bottom: 4px;\n",
              "    }\n",
              "\n",
              "    [theme=dark] .colab-df-convert {\n",
              "      background-color: #3B4455;\n",
              "      fill: #D2E3FC;\n",
              "    }\n",
              "\n",
              "    [theme=dark] .colab-df-convert:hover {\n",
              "      background-color: #434B5C;\n",
              "      box-shadow: 0px 1px 3px 1px rgba(0, 0, 0, 0.15);\n",
              "      filter: drop-shadow(0px 1px 2px rgba(0, 0, 0, 0.3));\n",
              "      fill: #FFFFFF;\n",
              "    }\n",
              "  </style>\n",
              "\n",
              "    <script>\n",
              "      const buttonEl =\n",
              "        document.querySelector('#df-73f3408f-8ec8-4740-a865-a89e770393f3 button.colab-df-convert');\n",
              "      buttonEl.style.display =\n",
              "        google.colab.kernel.accessAllowed ? 'block' : 'none';\n",
              "\n",
              "      async function convertToInteractive(key) {\n",
              "        const element = document.querySelector('#df-73f3408f-8ec8-4740-a865-a89e770393f3');\n",
              "        const dataTable =\n",
              "          await google.colab.kernel.invokeFunction('convertToInteractive',\n",
              "                                                    [key], {});\n",
              "        if (!dataTable) return;\n",
              "\n",
              "        const docLinkHtml = 'Like what you see? Visit the ' +\n",
              "          '<a target=\"_blank\" href=https://colab.research.google.com/notebooks/data_table.ipynb>data table notebook</a>'\n",
              "          + ' to learn more about interactive tables.';\n",
              "        element.innerHTML = '';\n",
              "        dataTable['output_type'] = 'display_data';\n",
              "        await google.colab.output.renderOutput(dataTable, element);\n",
              "        const docLink = document.createElement('div');\n",
              "        docLink.innerHTML = docLinkHtml;\n",
              "        element.appendChild(docLink);\n",
              "      }\n",
              "    </script>\n",
              "  </div>\n",
              "\n",
              "\n",
              "<div id=\"df-445b0937-6c38-44a0-a798-b04f57789d94\">\n",
              "  <button class=\"colab-df-quickchart\" onclick=\"quickchart('df-445b0937-6c38-44a0-a798-b04f57789d94')\"\n",
              "            title=\"Suggest charts\"\n",
              "            style=\"display:none;\">\n",
              "\n",
              "<svg xmlns=\"http://www.w3.org/2000/svg\" height=\"24px\"viewBox=\"0 0 24 24\"\n",
              "     width=\"24px\">\n",
              "    <g>\n",
              "        <path d=\"M19 3H5c-1.1 0-2 .9-2 2v14c0 1.1.9 2 2 2h14c1.1 0 2-.9 2-2V5c0-1.1-.9-2-2-2zM9 17H7v-7h2v7zm4 0h-2V7h2v10zm4 0h-2v-4h2v4z\"/>\n",
              "    </g>\n",
              "</svg>\n",
              "  </button>\n",
              "\n",
              "<style>\n",
              "  .colab-df-quickchart {\n",
              "      --bg-color: #E8F0FE;\n",
              "      --fill-color: #1967D2;\n",
              "      --hover-bg-color: #E2EBFA;\n",
              "      --hover-fill-color: #174EA6;\n",
              "      --disabled-fill-color: #AAA;\n",
              "      --disabled-bg-color: #DDD;\n",
              "  }\n",
              "\n",
              "  [theme=dark] .colab-df-quickchart {\n",
              "      --bg-color: #3B4455;\n",
              "      --fill-color: #D2E3FC;\n",
              "      --hover-bg-color: #434B5C;\n",
              "      --hover-fill-color: #FFFFFF;\n",
              "      --disabled-bg-color: #3B4455;\n",
              "      --disabled-fill-color: #666;\n",
              "  }\n",
              "\n",
              "  .colab-df-quickchart {\n",
              "    background-color: var(--bg-color);\n",
              "    border: none;\n",
              "    border-radius: 50%;\n",
              "    cursor: pointer;\n",
              "    display: none;\n",
              "    fill: var(--fill-color);\n",
              "    height: 32px;\n",
              "    padding: 0;\n",
              "    width: 32px;\n",
              "  }\n",
              "\n",
              "  .colab-df-quickchart:hover {\n",
              "    background-color: var(--hover-bg-color);\n",
              "    box-shadow: 0 1px 2px rgba(60, 64, 67, 0.3), 0 1px 3px 1px rgba(60, 64, 67, 0.15);\n",
              "    fill: var(--button-hover-fill-color);\n",
              "  }\n",
              "\n",
              "  .colab-df-quickchart-complete:disabled,\n",
              "  .colab-df-quickchart-complete:disabled:hover {\n",
              "    background-color: var(--disabled-bg-color);\n",
              "    fill: var(--disabled-fill-color);\n",
              "    box-shadow: none;\n",
              "  }\n",
              "\n",
              "  .colab-df-spinner {\n",
              "    border: 2px solid var(--fill-color);\n",
              "    border-color: transparent;\n",
              "    border-bottom-color: var(--fill-color);\n",
              "    animation:\n",
              "      spin 1s steps(1) infinite;\n",
              "  }\n",
              "\n",
              "  @keyframes spin {\n",
              "    0% {\n",
              "      border-color: transparent;\n",
              "      border-bottom-color: var(--fill-color);\n",
              "      border-left-color: var(--fill-color);\n",
              "    }\n",
              "    20% {\n",
              "      border-color: transparent;\n",
              "      border-left-color: var(--fill-color);\n",
              "      border-top-color: var(--fill-color);\n",
              "    }\n",
              "    30% {\n",
              "      border-color: transparent;\n",
              "      border-left-color: var(--fill-color);\n",
              "      border-top-color: var(--fill-color);\n",
              "      border-right-color: var(--fill-color);\n",
              "    }\n",
              "    40% {\n",
              "      border-color: transparent;\n",
              "      border-right-color: var(--fill-color);\n",
              "      border-top-color: var(--fill-color);\n",
              "    }\n",
              "    60% {\n",
              "      border-color: transparent;\n",
              "      border-right-color: var(--fill-color);\n",
              "    }\n",
              "    80% {\n",
              "      border-color: transparent;\n",
              "      border-right-color: var(--fill-color);\n",
              "      border-bottom-color: var(--fill-color);\n",
              "    }\n",
              "    90% {\n",
              "      border-color: transparent;\n",
              "      border-bottom-color: var(--fill-color);\n",
              "    }\n",
              "  }\n",
              "</style>\n",
              "\n",
              "  <script>\n",
              "    async function quickchart(key) {\n",
              "      const quickchartButtonEl =\n",
              "        document.querySelector('#' + key + ' button');\n",
              "      quickchartButtonEl.disabled = true;  // To prevent multiple clicks.\n",
              "      quickchartButtonEl.classList.add('colab-df-spinner');\n",
              "      try {\n",
              "        const charts = await google.colab.kernel.invokeFunction(\n",
              "            'suggestCharts', [key], {});\n",
              "      } catch (error) {\n",
              "        console.error('Error during call to suggestCharts:', error);\n",
              "      }\n",
              "      quickchartButtonEl.classList.remove('colab-df-spinner');\n",
              "      quickchartButtonEl.classList.add('colab-df-quickchart-complete');\n",
              "    }\n",
              "    (() => {\n",
              "      let quickchartButtonEl =\n",
              "        document.querySelector('#df-445b0937-6c38-44a0-a798-b04f57789d94 button');\n",
              "      quickchartButtonEl.style.display =\n",
              "        google.colab.kernel.accessAllowed ? 'block' : 'none';\n",
              "    })();\n",
              "  </script>\n",
              "</div>\n",
              "\n",
              "    </div>\n",
              "  </div>\n"
            ],
            "application/vnd.google.colaboratory.intrinsic+json": {
              "type": "dataframe",
              "variable_name": "df_monthly",
              "summary": "{\n  \"name\": \"df_monthly\",\n  \"rows\": 815,\n  \"fields\": [\n    {\n      \"column\": \"Longitude\",\n      \"properties\": {\n        \"dtype\": \"number\",\n        \"std\": 21.690164282502575,\n        \"min\": -150.0,\n        \"max\": -60.0,\n        \"num_unique_values\": 246,\n        \"samples\": [\n          -122.5,\n          -128.6,\n          -78.5\n        ],\n        \"semantic_type\": \"\",\n        \"description\": \"\"\n      }\n    },\n    {\n      \"column\": \"Latitude\",\n      \"properties\": {\n        \"dtype\": \"number\",\n        \"std\": 6.485331528131035,\n        \"min\": 24.6,\n        \"max\": 61.2,\n        \"num_unique_values\": 188,\n        \"samples\": [\n          42.2,\n          38.0,\n          41.0\n        ],\n        \"semantic_type\": \"\",\n        \"description\": \"\"\n      }\n    },\n    {\n      \"column\": \"Date\",\n      \"properties\": {\n        \"dtype\": \"period[M]\",\n        \"num_unique_values\": 10,\n        \"samples\": [\n          \"2006-01\",\n          \"2005-01\",\n          \"2010-01\"\n        ],\n        \"semantic_type\": \"\",\n        \"description\": \"\"\n      }\n    },\n    {\n      \"column\": \"Temp_celsius\",\n      \"properties\": {\n        \"dtype\": \"number\",\n        \"std\": 7.042246370560545,\n        \"min\": -18.98,\n        \"max\": 20.19,\n        \"num_unique_values\": 710,\n        \"samples\": [\n          -3.39,\n          -1.35,\n          -5.24\n        ],\n        \"semantic_type\": \"\",\n        \"description\": \"\"\n      }\n    },\n    {\n      \"column\": \"Precip_mm\",\n      \"properties\": {\n        \"dtype\": \"number\",\n        \"std\": 74586446.89892772,\n        \"min\": 0.0,\n        \"max\": 1055513700.0,\n        \"num_unique_values\": 766,\n        \"samples\": [\n          1794368.0,\n          24376320.0,\n          51418.8\n        ],\n        \"semantic_type\": \"\",\n        \"description\": \"\"\n      }\n    },\n    {\n      \"column\": \"Elevation\",\n      \"properties\": {\n        \"dtype\": \"number\",\n        \"std\": 444.67199110246196,\n        \"min\": -0.9,\n        \"max\": 3230.9,\n        \"num_unique_values\": 333,\n        \"samples\": [\n          87.2,\n          168.9,\n          110.0\n        ],\n        \"semantic_type\": \"\",\n        \"description\": \"\"\n      }\n    },\n    {\n      \"column\": \"Land_Cover_Description\",\n      \"properties\": {\n        \"dtype\": \"category\",\n        \"num_unique_values\": 15,\n        \"samples\": [\n          \"Cropland/Natural Vegetation Mosaic\",\n          \"Closed Shrubland\",\n          \"Water\"\n        ],\n        \"semantic_type\": \"\",\n        \"description\": \"\"\n      }\n    }\n  ]\n}"
            }
          },
          "metadata": {},
          "execution_count": 42
        }
      ]
    },
    {
      "cell_type": "code",
      "source": [
        "output_file = \"/content/drive/MyDrive/Colab Notebooks/Capstone Project/harmonized_dataset_Milestone01.csv\"\n",
        "df_monthly.to_csv(output_file, index=False)\n",
        "print(f\"Harmonized dataset saved to: {output_file}\")"
      ],
      "metadata": {
        "colab": {
          "base_uri": "https://localhost:8080/"
        },
        "id": "il66nOmal9th",
        "outputId": "81b93da9-ecae-4e28-b223-ad1232633dfb"
      },
      "execution_count": 44,
      "outputs": [
        {
          "output_type": "stream",
          "name": "stdout",
          "text": [
            "Harmonized dataset saved to: /content/drive/MyDrive/Colab Notebooks/Capstone Project/harmonized_dataset_Milestone01.csv\n"
          ]
        }
      ]
    }
  ]
}